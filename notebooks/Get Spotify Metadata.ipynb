{
 "cells": [
  {
   "cell_type": "code",
   "execution_count": 1,
   "id": "93c4bc18-398d-4171-badc-62bafd428102",
   "metadata": {},
   "outputs": [],
   "source": [
    "import configparser\n",
    "import json\n",
    "import spotipy\n",
    "import spotipy.util as util\n",
    "import pandas as pd\n",
    "import spotipy.oauth2 as oauth2\n",
    "from spotipy.oauth2 import SpotifyClientCredentials\n",
    "import bamboolib\n",
    "\n",
    "import warnings\n",
    "warnings.filterwarnings(\"ignore\")"
   ]
  },
  {
   "cell_type": "code",
   "execution_count": 2,
   "id": "9c8c8180-97c0-4666-8a02-ccbcfb93b617",
   "metadata": {},
   "outputs": [],
   "source": [
    "with open('../data/raw/spotify_creds.json') as f:\n",
    "    spotify_creds = json.load(f)"
   ]
  },
  {
   "cell_type": "code",
   "execution_count": 3,
   "id": "0fbb52bf-3dd9-47ee-b25b-44b945a351b5",
   "metadata": {},
   "outputs": [],
   "source": [
    "client_id = spotify_creds['client_id']\n",
    "client_secret = spotify_creds['client_secret']\n",
    "username = spotify_creds['username']\n",
    "#username = 'i9o5yf5bh59gq1nttz2iic006'\n",
    "#scope = spotify_creds['top_artist_scope']\n",
    "redirect_uri = spotify_creds['top_artist_redirect_url']"
   ]
  },
  {
   "cell_type": "code",
   "execution_count": 8,
   "id": "6c18b562-1736-420e-881f-99c03c979d39",
   "metadata": {},
   "outputs": [],
   "source": [
    "scope = 'user-library-read user-read-recently-played user-top-read '"
   ]
  },
  {
   "cell_type": "code",
   "execution_count": 9,
   "id": "bdad8076-c382-468b-b57c-09ef6ceaf016",
   "metadata": {},
   "outputs": [],
   "source": [
    "client_credentials_manager = SpotifyClientCredentials(client_id, client_secret) \n",
    "sp = spotipy.Spotify(client_credentials_manager=client_credentials_manager)\n",
    "\n",
    "token = util.prompt_for_user_token(username, scope, client_id, client_secret, redirect_uri)"
   ]
  },
  {
   "cell_type": "code",
   "execution_count": 10,
   "id": "feafd61b-d7d7-4d59-b569-3963ba39d44b",
   "metadata": {},
   "outputs": [],
   "source": [
    "if token:\n",
    "    sp = spotipy.Spotify(auth=token)\n",
    "else:\n",
    "    print(\"Can't get token for\", username)"
   ]
  },
  {
   "cell_type": "code",
   "execution_count": 13,
   "id": "415e9164-fada-4243-b8bf-f6c414ad43bf",
   "metadata": {},
   "outputs": [],
   "source": [
    "def connect_to_spotify_api(client_id, client_secret, username, scope, redirect_uri):\n",
    "    \n",
    "    client_credentials_manager = SpotifyClientCredentials(client_id, client_secret) \n",
    "    sp = spotipy.Spotify(client_credentials_manager=client_credentials_manager)\n",
    "\n",
    "    token = util.prompt_for_user_token(username, scope, client_id, client_secret, redirect_uri)\n",
    "\n",
    "    if token:\n",
    "        sp = spotipy.Spotify(auth=token)\n",
    "    else:\n",
    "        print(\"Can't get token for\", username)\n",
    "        \n",
    "    return sp"
   ]
  },
  {
   "cell_type": "code",
   "execution_count": 7,
   "id": "2a571d56-e8eb-4bac-8135-8b857f0b0ca6",
   "metadata": {},
   "outputs": [],
   "source": [
    "sp = connect_to_spotify_api(client_id, client_secret, username, scope, redirect_uri)"
   ]
  },
  {
   "cell_type": "code",
   "execution_count": 9,
   "id": "063deaf9-ad05-4b8c-8e3c-96dd7a16e502",
   "metadata": {},
   "outputs": [],
   "source": [
    "df = get_saved_library()"
   ]
  },
  {
   "cell_type": "code",
   "execution_count": 21,
   "id": "ecd131e9-1c8b-47fe-8229-62403f997315",
   "metadata": {},
   "outputs": [],
   "source": [
    "def get_token(scope):\n",
    "    client_credentials_manager = SpotifyClientCredentials(client_id, client_secret) \n",
    "    sp = spotipy.Spotify(client_credentials_manager=client_credentials_manager)\n",
    "    token = util.prompt_for_user_token(username, scope, client_id, client_secret, redirect_uri)\n",
    "    \n",
    "    return token"
   ]
  }
 ],
 "metadata": {
  "kernelspec": {
   "display_name": "Python 3 (ipykernel)",
   "language": "python",
   "name": "python3"
  },
  "language_info": {
   "codemirror_mode": {
    "name": "ipython",
    "version": 3
   },
   "file_extension": ".py",
   "mimetype": "text/x-python",
   "name": "python",
   "nbconvert_exporter": "python",
   "pygments_lexer": "ipython3",
   "version": "3.8.8"
  }
 },
 "nbformat": 4,
 "nbformat_minor": 5
}
