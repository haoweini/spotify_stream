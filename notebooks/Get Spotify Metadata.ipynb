{
 "cells": [
  {
   "cell_type": "code",
   "execution_count": 1,
   "id": "93c4bc18-398d-4171-badc-62bafd428102",
   "metadata": {},
   "outputs": [],
   "source": [
    "import configparser\n",
    "import json\n",
    "import spotipy\n",
    "import spotipy.util as util\n",
    "import pandas as pd\n",
    "import spotipy.oauth2 as oauth2\n",
    "from spotipy.oauth2 import SpotifyClientCredentials\n",
    "import bamboolib\n",
    "\n",
    "import warnings\n",
    "warnings.filterwarnings(\"ignore\")"
   ]
  },
  {
   "cell_type": "code",
   "execution_count": 12,
   "id": "9c8c8180-97c0-4666-8a02-ccbcfb93b617",
   "metadata": {},
   "outputs": [],
   "source": [
    "with open('../data/raw/spotify_creds.json') as f:\n",
    "    spotify_creds = json.load(f)"
   ]
  },
  {
   "cell_type": "code",
   "execution_count": 13,
   "id": "0fbb52bf-3dd9-47ee-b25b-44b945a351b5",
   "metadata": {},
   "outputs": [],
   "source": [
    "client_id = spotify_creds['client_id']\n",
    "client_secret = spotify_creds['client_secret']\n",
    "username = spotify_creds['username']\n",
    "#username = 'i9o5yf5bh59gq1nttz2iic006'\n",
    "scope = spotify_creds['top_artist_scope']\n",
    "redirect_uri = spotify_creds['top_artist_redirect_url']"
   ]
  },
  {
   "cell_type": "code",
   "execution_count": null,
   "id": "b14491d8-ab80-4587-a809-1fdea76cb974",
   "metadata": {},
   "outputs": [],
   "source": [
    "spotify_creds['saved_library_token']"
   ]
  },
  {
   "cell_type": "code",
   "execution_count": 8,
   "id": "bdad8076-c382-468b-b57c-09ef6ceaf016",
   "metadata": {},
   "outputs": [],
   "source": [
    "client_credentials_manager = SpotifyClientCredentials(client_id, client_secret) \n",
    "sp = spotipy.Spotify(client_credentials_manager=client_credentials_manager)\n",
    "\n",
    "token = util.prompt_for_user_token(username, scope, client_id, client_secret, redirect_uri)"
   ]
  },
  {
   "cell_type": "code",
   "execution_count": 10,
   "id": "2bd69e7b-d61a-47e3-8481-02948e8fe012",
   "metadata": {},
   "outputs": [
    {
     "data": {
      "text/plain": [
       "'BQDWJYYXNHAECjcq9XQPWxBjZ7BVOBymuoYcCl2bI-v4lOrgv8FaklI5j7x9tSA0FiBdMz6lN1T754BKkdYq71IqnMb5sNTdqRH6Gv8n-GMsD3VkKFs2yLPR2veNTMrO9fMspTC2rDOvOIFVMoW7O9QZVJWk8ynhH5TbZxWGwSiBdQ'"
      ]
     },
     "execution_count": 10,
     "metadata": {},
     "output_type": "execute_result"
    }
   ],
   "source": [
    "token"
   ]
  },
  {
   "cell_type": "code",
   "execution_count": 6,
   "id": "bc3f0668-a858-42f7-a8e8-592a3efd4a0c",
   "metadata": {},
   "outputs": [],
   "source": [
    "token = 'BQDs3l4g6Gm5JFXDE4C7ngKQ9Z_7fMFlkN0oL5WwlTT7L63HjMppDNLd_Ml7ZmrwoS6zjBrsEg0-2Wr0qGHB0ACrsd5P2fMvcmayL1vhiu3wXRVXgjR2IkMgB-60EPKOoyXkZCssUb8CwJlC2CYiYPffftUK_-yRtzAxTbZwKauGf1yJ1Kk'"
   ]
  },
  {
   "cell_type": "code",
   "execution_count": 27,
   "id": "a5f7c61d-4b0d-40c1-b9c9-187af1442884",
   "metadata": {},
   "outputs": [],
   "source": [
    "token ='BQBiFkEnJjpqU0h7KL3-6UHUd9H_sQrdefo_U_-Z_943fAmo8eTZyw2XhXHXtUv2_zBVPEMNV9lCfrQqWULYeJc3ekufHJnf7UhUX1WGwqbAale5fa9Q771MNPsqPrtBVsAmRzx_XLJ5aHs12BvWbQaD3i5WOzz_bxzXdrHI9FC4Q35RsLPPRvYtJ6w'"
   ]
  },
  {
   "cell_type": "code",
   "execution_count": 28,
   "id": "feafd61b-d7d7-4d59-b569-3963ba39d44b",
   "metadata": {},
   "outputs": [],
   "source": [
    "if token:\n",
    "    sp = spotipy.Spotify(auth=token)\n",
    "else:\n",
    "    print(\"Can't get token for\", username)"
   ]
  },
  {
   "cell_type": "code",
   "execution_count": 13,
   "id": "415e9164-fada-4243-b8bf-f6c414ad43bf",
   "metadata": {},
   "outputs": [],
   "source": [
    "def connect_to_spotify_api(client_id, client_secret, username, scope, redirect_uri):\n",
    "    \n",
    "    client_credentials_manager = SpotifyClientCredentials(client_id, client_secret) \n",
    "    sp = spotipy.Spotify(client_credentials_manager=client_credentials_manager)\n",
    "\n",
    "    token = util.prompt_for_user_token(username, scope, client_id, client_secret, redirect_uri)\n",
    "\n",
    "    if token:\n",
    "        sp = spotipy.Spotify(auth=token)\n",
    "    else:\n",
    "        print(\"Can't get token for\", username)\n",
    "        \n",
    "    return sp"
   ]
  },
  {
   "cell_type": "code",
   "execution_count": 7,
   "id": "2a571d56-e8eb-4bac-8135-8b857f0b0ca6",
   "metadata": {},
   "outputs": [],
   "source": [
    "sp = connect_to_spotify_api(client_id, client_secret, username, scope, redirect_uri)"
   ]
  },
  {
   "cell_type": "code",
   "execution_count": 9,
   "id": "063deaf9-ad05-4b8c-8e3c-96dd7a16e502",
   "metadata": {},
   "outputs": [],
   "source": [
    "df = get_saved_library()"
   ]
  },
  {
   "cell_type": "code",
   "execution_count": 21,
   "id": "ecd131e9-1c8b-47fe-8229-62403f997315",
   "metadata": {},
   "outputs": [],
   "source": [
    "def get_token(scope):\n",
    "    client_credentials_manager = SpotifyClientCredentials(client_id, client_secret) \n",
    "    sp = spotipy.Spotify(client_credentials_manager=client_credentials_manager)\n",
    "    token = util.prompt_for_user_token(username, scope, client_id, client_secret, redirect_uri)\n",
    "    \n",
    "    return token"
   ]
  },
  {
   "cell_type": "code",
   "execution_count": 22,
   "id": "bca87236-ec84-4c43-8edf-c81a9bea232b",
   "metadata": {},
   "outputs": [
    {
     "data": {
      "text/plain": [
       "'BQAxjL1PjczgPk64RIqPXv43SRL7XRqBOP5FQ204A5wekEW2GI6Sncu0V7HoTV6wNiLzWWbqme-QFehtB0Kw5lqHd3FlplPe0XkrCGX3FW1bys1rg7w3rKegGB-dm9LFATI5bcHR82tss4I1Z9IvyRx2jn6o3geMnPlDRkBW-BACy98rQE4'"
      ]
     },
     "execution_count": 22,
     "metadata": {},
     "output_type": "execute_result"
    }
   ],
   "source": [
    "get_token('user-library-read')"
   ]
  },
  {
   "cell_type": "code",
   "execution_count": 23,
   "id": "79db0be1-a257-4092-840a-2465470bc802",
   "metadata": {},
   "outputs": [
    {
     "data": {
      "text/plain": [
       "'BQDRwwX-AQFax7ClVapVJNzBb1DVVtsD4cuAmThTXOY8VDBXJxcqyqgvcpPgpkAZp9Sw4dtJ8b3j7WOrSGK0aGU8GHwIB1BIoAaeHnGdgtZealOjqX-xhAlohNc9bsgmP00Q34BAOmJDr3jXHoBHLQFyUjmS76aXH-GoQ8gWBno'"
      ]
     },
     "execution_count": 23,
     "metadata": {},
     "output_type": "execute_result"
    }
   ],
   "source": [
    "get_token('user-read-recently-played')"
   ]
  },
  {
   "cell_type": "code",
   "execution_count": 38,
   "id": "1739c465-e327-4235-a9ad-9d9a62e89afa",
   "metadata": {},
   "outputs": [],
   "source": [
    "name_c = [get_token('user-read-recently-played')]\n",
    "with open(\"out.txt\", \"w+\") as f:\n",
    "    f.write(\"data = \")\n",
    "    json.dump({\"name\": name_c[0]}, f)"
   ]
  },
  {
   "cell_type": "code",
   "execution_count": 39,
   "id": "be883f5a-74a2-4457-8d51-f5fb67008998",
   "metadata": {},
   "outputs": [],
   "source": [
    "f = open(\"out.txt\", \"r\")"
   ]
  },
  {
   "cell_type": "code",
   "execution_count": 42,
   "id": "949055d5-2ed4-4f63-93ac-0703b23b7a82",
   "metadata": {},
   "outputs": [
    {
     "ename": "IndexError",
     "evalue": "string index out of range",
     "output_type": "error",
     "traceback": [
      "\u001b[0;31m---------------------------------------------------------------------------\u001b[0m",
      "\u001b[0;31mIndexError\u001b[0m                                Traceback (most recent call last)",
      "Input \u001b[0;32mIn [42]\u001b[0m, in \u001b[0;36m<cell line: 1>\u001b[0;34m()\u001b[0m\n\u001b[0;32m----> 1\u001b[0m f\u001b[38;5;241m.\u001b[39mread()[\u001b[38;5;241m0\u001b[39m]\n",
      "\u001b[0;31mIndexError\u001b[0m: string index out of range"
     ]
    }
   ],
   "source": [
    "f.read()[0]"
   ]
  },
  {
   "cell_type": "code",
   "execution_count": null,
   "id": "703da1a3-4711-4582-856c-58d6054567b3",
   "metadata": {},
   "outputs": [],
   "source": []
  }
 ],
 "metadata": {
  "kernelspec": {
   "display_name": "Python 3 (ipykernel)",
   "language": "python",
   "name": "python3"
  },
  "language_info": {
   "codemirror_mode": {
    "name": "ipython",
    "version": 3
   },
   "file_extension": ".py",
   "mimetype": "text/x-python",
   "name": "python",
   "nbconvert_exporter": "python",
   "pygments_lexer": "ipython3",
   "version": "3.8.8"
  }
 },
 "nbformat": 4,
 "nbformat_minor": 5
}
