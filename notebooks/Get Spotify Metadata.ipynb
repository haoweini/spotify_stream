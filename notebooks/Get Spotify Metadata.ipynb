{
 "cells": [
  {
   "cell_type": "code",
   "execution_count": 1,
   "id": "93c4bc18-398d-4171-badc-62bafd428102",
   "metadata": {},
   "outputs": [],
   "source": [
    "import configparser\n",
    "import json\n",
    "import spotipy\n",
    "import spotipy.util as util\n",
    "import pandas as pd\n",
    "import spotipy.oauth2 as oauth2\n",
    "from spotipy.oauth2 import SpotifyClientCredentials\n",
    "import bamboolib\n",
    "\n",
    "import warnings\n",
    "warnings.filterwarnings(\"ignore\")"
   ]
  },
  {
   "cell_type": "code",
   "execution_count": 12,
   "id": "9c8c8180-97c0-4666-8a02-ccbcfb93b617",
   "metadata": {},
   "outputs": [],
   "source": [
    "with open('../data/raw/spotify_creds.json') as f:\n",
    "    spotify_creds = json.load(f)"
   ]
  },
  {
   "cell_type": "code",
   "execution_count": 13,
   "id": "0fbb52bf-3dd9-47ee-b25b-44b945a351b5",
   "metadata": {},
   "outputs": [],
   "source": [
    "client_id = spotify_creds['client_id']\n",
    "client_secret = spotify_creds['client_secret']\n",
    "username = spotify_creds['username']\n",
    "#username = 'i9o5yf5bh59gq1nttz2iic006'\n",
    "scope = spotify_creds['top_artist_scope']\n",
    "redirect_uri = spotify_creds['top_artist_redirect_url']"
   ]
  },
  {
   "cell_type": "code",
   "execution_count": null,
   "id": "b14491d8-ab80-4587-a809-1fdea76cb974",
   "metadata": {},
   "outputs": [],
   "source": [
    "spotify_creds['saved_library_token']"
   ]
  },
  {
   "cell_type": "code",
   "execution_count": 16,
   "id": "1a6b96d9-f239-4414-bc4c-48ba2a74bc1c",
   "metadata": {},
   "outputs": [],
   "source": [
    "which_token = 'saved_library'\n",
    "str1 = \"%s_token\" % (which_token)"
   ]
  },
  {
   "cell_type": "code",
   "execution_count": 18,
   "id": "390481b5-f9e5-49f1-aa10-9d73d97aa523",
   "metadata": {},
   "outputs": [
    {
     "data": {
      "text/plain": [
       "'BQDs3l4g6Gm5JFXDE4C7ngKQ9Z_7fMFlkN0oL5WwlTT7L63HjMppDNLd_Ml7ZmrwoS6zjBrsEg0-2Wr0qGHB0ACrsd5P2fMvcmayL1vhiu3wXRVXgjR2IkMgB-60EPKOoyXkZCssUb8CwJlC2CYiYPffftUK_-yRtzAxTbZwKauGf1yJ1Kk'"
      ]
     },
     "execution_count": 18,
     "metadata": {},
     "output_type": "execute_result"
    }
   ],
   "source": [
    "spotify_creds[str1]"
   ]
  },
  {
   "cell_type": "code",
   "execution_count": 8,
   "id": "bdad8076-c382-468b-b57c-09ef6ceaf016",
   "metadata": {},
   "outputs": [],
   "source": [
    "client_credentials_manager = SpotifyClientCredentials(client_id, client_secret) \n",
    "sp = spotipy.Spotify(client_credentials_manager=client_credentials_manager)\n",
    "\n",
    "#token = util.prompt_for_user_token(username, scope, client_id, client_secret, redirect_uri)"
   ]
  },
  {
   "cell_type": "code",
   "execution_count": 9,
   "id": "c48e9503-bf20-4b97-91f5-8fafc69ef96c",
   "metadata": {},
   "outputs": [],
   "source": [
    "token = util.prompt_for_user_token(username, scope, client_id, client_secret, redirect_uri)"
   ]
  },
  {
   "cell_type": "code",
   "execution_count": 10,
   "id": "2bd69e7b-d61a-47e3-8481-02948e8fe012",
   "metadata": {},
   "outputs": [
    {
     "data": {
      "text/plain": [
       "'BQDWJYYXNHAECjcq9XQPWxBjZ7BVOBymuoYcCl2bI-v4lOrgv8FaklI5j7x9tSA0FiBdMz6lN1T754BKkdYq71IqnMb5sNTdqRH6Gv8n-GMsD3VkKFs2yLPR2veNTMrO9fMspTC2rDOvOIFVMoW7O9QZVJWk8ynhH5TbZxWGwSiBdQ'"
      ]
     },
     "execution_count": 10,
     "metadata": {},
     "output_type": "execute_result"
    }
   ],
   "source": [
    "token"
   ]
  },
  {
   "cell_type": "code",
   "execution_count": 6,
   "id": "bc3f0668-a858-42f7-a8e8-592a3efd4a0c",
   "metadata": {},
   "outputs": [],
   "source": [
    "token = 'BQDs3l4g6Gm5JFXDE4C7ngKQ9Z_7fMFlkN0oL5WwlTT7L63HjMppDNLd_Ml7ZmrwoS6zjBrsEg0-2Wr0qGHB0ACrsd5P2fMvcmayL1vhiu3wXRVXgjR2IkMgB-60EPKOoyXkZCssUb8CwJlC2CYiYPffftUK_-yRtzAxTbZwKauGf1yJ1Kk'"
   ]
  },
  {
   "cell_type": "code",
   "execution_count": 7,
   "id": "feafd61b-d7d7-4d59-b569-3963ba39d44b",
   "metadata": {},
   "outputs": [],
   "source": [
    "if token:\n",
    "    sp = spotipy.Spotify(auth=token)\n",
    "else:\n",
    "    print(\"Can't get token for\", username)"
   ]
  },
  {
   "cell_type": "code",
   "execution_count": 15,
   "id": "9466e8ef-95d6-47b7-a926-91292cbac233",
   "metadata": {},
   "outputs": [
    {
     "data": {
      "text/plain": [
       "{'display_name': 'Nihw',\n",
       " 'external_urls': {'spotify': 'https://open.spotify.com/user/6oup6y9z3si0zmr49hq1kze94'},\n",
       " 'followers': {'href': None, 'total': 1},\n",
       " 'href': 'https://api.spotify.com/v1/users/6oup6y9z3si0zmr49hq1kze94',\n",
       " 'id': '6oup6y9z3si0zmr49hq1kze94',\n",
       " 'images': [{'height': None,\n",
       "   'url': 'https://i.scdn.co/image/ab6775700000ee85f9b35ae5a6c28f047e6cc6c0',\n",
       "   'width': None}],\n",
       " 'type': 'user',\n",
       " 'uri': 'spotify:user:6oup6y9z3si0zmr49hq1kze94'}"
      ]
     },
     "execution_count": 15,
     "metadata": {},
     "output_type": "execute_result"
    }
   ],
   "source": [
    "sp.current_user()"
   ]
  },
  {
   "cell_type": "code",
   "execution_count": 13,
   "id": "415e9164-fada-4243-b8bf-f6c414ad43bf",
   "metadata": {},
   "outputs": [],
   "source": [
    "def connect_to_spotify_api(client_id, client_secret, username, scope, redirect_uri):\n",
    "    \n",
    "    client_credentials_manager = SpotifyClientCredentials(client_id, client_secret) \n",
    "    sp = spotipy.Spotify(client_credentials_manager=client_credentials_manager)\n",
    "\n",
    "    token = util.prompt_for_user_token(username, scope, client_id, client_secret, redirect_uri)\n",
    "\n",
    "    if token:\n",
    "        sp = spotipy.Spotify(auth=token)\n",
    "    else:\n",
    "        print(\"Can't get token for\", username)\n",
    "        \n",
    "    return sp"
   ]
  },
  {
   "cell_type": "code",
   "execution_count": 7,
   "id": "2a571d56-e8eb-4bac-8135-8b857f0b0ca6",
   "metadata": {},
   "outputs": [],
   "source": [
    "sp = connect_to_spotify_api(client_id, client_secret, username, scope, redirect_uri)"
   ]
  },
  {
   "cell_type": "code",
   "execution_count": 8,
   "id": "d1b1d852-32da-47c6-b359-f9a126f06dea",
   "metadata": {},
   "outputs": [],
   "source": [
    "def get_saved_library():\n",
    "    \n",
    "    df_saved_tracks = pd.DataFrame()\n",
    "    track_list = ''\n",
    "    added_ts_list = []\n",
    "    artist_list = []\n",
    "    title_list = []\n",
    "    popularity_list = []\n",
    "    album_cover_list = []\n",
    "    more_songs = True\n",
    "    offset_index = 0\n",
    "\n",
    "    while more_songs:\n",
    "        songs = sp.current_user_saved_tracks(offset=offset_index)\n",
    "        for song in songs['items']:\n",
    "            #join track ids to a string for audio_features function\n",
    "            track_list += song['track']['id'] +','\n",
    "            #get the time when the song was added\n",
    "            added_ts_list.append(song['added_at'])\n",
    "            #get the title of the song\n",
    "            title_list.append(song['track']['name'])\n",
    "            #get popularity\n",
    "            popularity_list.append(song['track']['popularity'])\n",
    "            # get album cover\n",
    "            album_cover_url = song['track']['album']['images'][0]['url']\n",
    "            #response = requests.get(album_cover_url)\n",
    "            #img = Image.open(BytesIO(response.content))\n",
    "            album_cover_list.append(album_cover_url)\n",
    "            #get all the artists in the song\n",
    "            artists = song['track']['artists']\n",
    "            artists_name = ''\n",
    "            for artist in artists:\n",
    "                artists_name += artist['name']  + ','\n",
    "            artist_list.append(artists_name[:-1])\n",
    "        track_list = ''\n",
    "        if songs['next'] == None:\n",
    "            # no more songs in playlist\n",
    "            more_songs = False\n",
    "        else:\n",
    "            # get the next n songs\n",
    "            offset_index += songs['limit']\n",
    "    #include timestamp added, title and artists of a song\n",
    "    df_saved_tracks['song_title'] = title_list\n",
    "    df_saved_tracks['artists'] = artist_list\n",
    "    df_saved_tracks['date_added'] = added_ts_list\n",
    "    df_saved_tracks['album_cover'] = album_cover_list\n",
    "    df_saved_tracks['popularity'] = popularity_list\n",
    "    \n",
    "    return df_saved_tracks"
   ]
  },
  {
   "cell_type": "code",
   "execution_count": 9,
   "id": "063deaf9-ad05-4b8c-8e3c-96dd7a16e502",
   "metadata": {},
   "outputs": [],
   "source": [
    "df = get_saved_library()"
   ]
  },
  {
   "cell_type": "code",
   "execution_count": 20,
   "id": "19814869-f7d5-489a-a9dc-8ce2f5d2f4be",
   "metadata": {},
   "outputs": [],
   "source": [
    "def connect_to_spotify_api(client_id, client_secret, username, scope, redirect_uri, which_token):\n",
    "    \n",
    "    client_credentials_manager = SpotifyClientCredentials(client_id, client_secret) \n",
    "    sp = spotipy.Spotify(client_credentials_manager=client_credentials_manager)\n",
    "\n",
    "    #token = util.prompt_for_user_token(username, scope, client_id, client_secret, redirect_uri)\n",
    "    str1 = \"%s_token\" % (which_token)\n",
    "    token = spotify_creds[str1]\n",
    "\n",
    "    if token:\n",
    "        sp = spotipy.Spotify(auth=token)\n",
    "    else:\n",
    "        print(\"Can't get token for\", username)\n",
    "        \n",
    "    return sp\n",
    "\n",
    "sp = connect_to_spotify_api(client_id, client_secret, username, scope, redirect_uri, 'saved_library')"
   ]
  },
  {
   "cell_type": "code",
   "execution_count": null,
   "id": "ecd131e9-1c8b-47fe-8229-62403f997315",
   "metadata": {},
   "outputs": [],
   "source": []
  }
 ],
 "metadata": {
  "kernelspec": {
   "display_name": "Python 3 (ipykernel)",
   "language": "python",
   "name": "python3"
  },
  "language_info": {
   "codemirror_mode": {
    "name": "ipython",
    "version": 3
   },
   "file_extension": ".py",
   "mimetype": "text/x-python",
   "name": "python",
   "nbconvert_exporter": "python",
   "pygments_lexer": "ipython3",
   "version": "3.8.8"
  }
 },
 "nbformat": 4,
 "nbformat_minor": 5
}
