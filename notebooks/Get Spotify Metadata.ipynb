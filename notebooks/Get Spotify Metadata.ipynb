{
 "cells": [
  {
   "cell_type": "code",
   "execution_count": 1,
   "id": "93c4bc18-398d-4171-badc-62bafd428102",
   "metadata": {},
   "outputs": [],
   "source": [
    "import configparser\n",
    "import json\n",
    "import spotipy\n",
    "import spotipy.util as util\n",
    "import pandas as pd\n",
    "import spotipy.oauth2 as oauth2\n",
    "from spotipy.oauth2 import SpotifyClientCredentials\n",
    "import bamboolib\n",
    "\n",
    "import warnings\n",
    "warnings.filterwarnings(\"ignore\")"
   ]
  },
  {
   "cell_type": "code",
   "execution_count": 147,
   "id": "9c8c8180-97c0-4666-8a02-ccbcfb93b617",
   "metadata": {},
   "outputs": [],
   "source": [
    "with open('../data/raw/spotify_creds.json') as f:\n",
    "    spotify_creds = json.load(f)"
   ]
  },
  {
   "cell_type": "code",
   "execution_count": 148,
   "id": "0fbb52bf-3dd9-47ee-b25b-44b945a351b5",
   "metadata": {},
   "outputs": [],
   "source": [
    "client_id = spotify_creds['client_id']\n",
    "client_secret = spotify_creds['client_secret']\n",
    "username = spotify_creds['username']\n",
    "scope = spotify_creds['saved_library_scope']\n",
    "redirect_uri = spotify_creds['saved_library_redirect_url']"
   ]
  },
  {
   "cell_type": "code",
   "execution_count": 149,
   "id": "bdad8076-c382-468b-b57c-09ef6ceaf016",
   "metadata": {},
   "outputs": [],
   "source": [
    "client_credentials_manager = SpotifyClientCredentials(client_id, client_secret) \n",
    "sp = spotipy.Spotify(client_credentials_manager=client_credentials_manager)\n",
    "\n",
    "token = util.prompt_for_user_token(username, scope, client_id, client_secret, redirect_uri)"
   ]
  },
  {
   "cell_type": "code",
   "execution_count": 150,
   "id": "feafd61b-d7d7-4d59-b569-3963ba39d44b",
   "metadata": {},
   "outputs": [],
   "source": [
    "if token:\n",
    "    sp = spotipy.Spotify(auth=token)\n",
    "else:\n",
    "    print(\"Can't get token for\", username)"
   ]
  },
  {
   "cell_type": "code",
   "execution_count": 151,
   "id": "415e9164-fada-4243-b8bf-f6c414ad43bf",
   "metadata": {},
   "outputs": [],
   "source": [
    "def connect_to_spotify_api(client_id, client_secret, username, scope, redirect_uri):\n",
    "    \n",
    "    client_credentials_manager = SpotifyClientCredentials(client_id, client_secret) \n",
    "    sp = spotipy.Spotify(client_credentials_manager=client_credentials_manager)\n",
    "\n",
    "    token = util.prompt_for_user_token(username, scope, client_id, client_secret, redirect_uri)\n",
    "\n",
    "    if token:\n",
    "        sp = spotipy.Spotify(auth=token)\n",
    "    else:\n",
    "        print(\"Can't get token for\", username)\n",
    "        \n",
    "    return sp"
   ]
  },
  {
   "cell_type": "code",
   "execution_count": 152,
   "id": "2a571d56-e8eb-4bac-8135-8b857f0b0ca6",
   "metadata": {},
   "outputs": [],
   "source": [
    "sp = connect_to_spotify_api(client_id, client_secret, username, scope, redirect_uri)"
   ]
  },
  {
   "cell_type": "code",
   "execution_count": 87,
   "id": "d1b1d852-32da-47c6-b359-f9a126f06dea",
   "metadata": {},
   "outputs": [],
   "source": [
    "def get_saved_library():\n",
    "    \n",
    "    df_saved_tracks = pd.DataFrame()\n",
    "    track_list = ''\n",
    "    added_ts_list = []\n",
    "    artist_list = []\n",
    "    title_list = []\n",
    "    popularity_list = []\n",
    "    album_cover_list = []\n",
    "    more_songs = True\n",
    "    offset_index = 0\n",
    "\n",
    "    while more_songs:\n",
    "        songs = sp.current_user_saved_tracks(offset=offset_index)\n",
    "        for song in songs['items']:\n",
    "            #join track ids to a string for audio_features function\n",
    "            track_list += song['track']['id'] +','\n",
    "            #get the time when the song was added\n",
    "            added_ts_list.append(song['added_at'])\n",
    "            #get the title of the song\n",
    "            title_list.append(song['track']['name'])\n",
    "            #get popularity\n",
    "            popularity_list.append(song['track']['popularity'])\n",
    "            # get album cover\n",
    "            album_cover_url = song['track']['album']['images'][0]['url']\n",
    "            #response = requests.get(album_cover_url)\n",
    "            #img = Image.open(BytesIO(response.content))\n",
    "            album_cover_list.append(album_cover_url)\n",
    "            #get all the artists in the song\n",
    "            artists = song['track']['artists']\n",
    "            artists_name = ''\n",
    "            for artist in artists:\n",
    "                artists_name += artist['name']  + ','\n",
    "            artist_list.append(artists_name[:-1])\n",
    "        track_list = ''\n",
    "        if songs['next'] == None:\n",
    "            # no more songs in playlist\n",
    "            more_songs = False\n",
    "        else:\n",
    "            # get the next n songs\n",
    "            offset_index += songs['limit']\n",
    "    #include timestamp added, title and artists of a song\n",
    "    df_saved_tracks['song_title'] = title_list\n",
    "    df_saved_tracks['artists'] = artist_list\n",
    "    df_saved_tracks['date_added'] = added_ts_list\n",
    "    df_saved_tracks['album_cover'] = album_cover_list\n",
    "    df_saved_tracks['popularity'] = popularity_list\n",
    "    \n",
    "    return df_saved_tracks"
   ]
  },
  {
   "cell_type": "code",
   "execution_count": 88,
   "id": "063deaf9-ad05-4b8c-8e3c-96dd7a16e502",
   "metadata": {},
   "outputs": [],
   "source": [
    "df = get_saved_library()"
   ]
  },
  {
   "cell_type": "code",
   "execution_count": 116,
   "id": "ce3408d0-f326-46a1-89e5-58e167d1cd82",
   "metadata": {},
   "outputs": [
    {
     "data": {
      "text/plain": [
       "{'spotify': 'https://open.spotify.com/track/2XKsHHNCtKqk9cF35TRFyC'}"
      ]
     },
     "execution_count": 116,
     "metadata": {},
     "output_type": "execute_result"
    }
   ],
   "source": [
    "songs = sp.current_user_saved_tracks(offset=0)\n",
    "songs['items'][0]['track']['external_urls']"
   ]
  },
  {
   "cell_type": "code",
   "execution_count": 120,
   "id": "95fc2ad4-8593-42ee-8990-7258f1a25801",
   "metadata": {},
   "outputs": [],
   "source": [
    "str1 = songs['items'][0]['track']['external_urls']['spotify']"
   ]
  },
  {
   "cell_type": "code",
   "execution_count": 153,
   "id": "de8ad918-5627-490b-8709-e8a9c50ffc95",
   "metadata": {},
   "outputs": [],
   "source": [
    "scope = 'user-top-read'\n",
    "redirect_uri = 'http://localhost:8885/callback'\n",
    "client_credentials_manager = SpotifyClientCredentials(client_id, client_secret) \n",
    "sp = spotipy.Spotify(client_credentials_manager=client_credentials_manager)\n",
    "token = util.prompt_for_user_token(username, scope, client_id, client_secret, redirect_uri)"
   ]
  },
  {
   "cell_type": "code",
   "execution_count": 154,
   "id": "44eac04b-2abf-4e09-8764-70d55c00797b",
   "metadata": {},
   "outputs": [],
   "source": [
    "sp = spotipy.Spotify(auth=token)"
   ]
  },
  {
   "cell_type": "code",
   "execution_count": 155,
   "id": "ccb54954-47b8-45e5-a96c-ba9b713bbfbf",
   "metadata": {},
   "outputs": [],
   "source": [
    "client_id = spotify_creds['client_id']\n",
    "client_secret = spotify_creds['client_secret']\n",
    "username = spotify_creds['username']\n",
    "scope = spotify_creds['top_artist_scope']\n",
    "redirect_uri = spotify_creds['top_artist_redirect_url']\n",
    "\n",
    "\n",
    "sp = connect_to_spotify_api(client_id, client_secret, username, scope, redirect_uri)"
   ]
  },
  {
   "cell_type": "code",
   "execution_count": 156,
   "id": "9c768503-a3d7-439f-91fc-2ae44e7b2548",
   "metadata": {},
   "outputs": [],
   "source": [
    "a = sp.current_user_top_artists()"
   ]
  },
  {
   "cell_type": "code",
   "execution_count": 158,
   "id": "60bc096b-2c0d-443a-a371-03eedff55aa4",
   "metadata": {},
   "outputs": [],
   "source": [
    "client_id = spotify_creds['client_id']\n",
    "client_secret = spotify_creds['client_secret']\n",
    "username = spotify_creds['username']\n",
    "scope = spotify_creds['recently_played_scope']\n",
    "redirect_uri = spotify_creds['recently_played_redirect_url']\n",
    "\n",
    "\n",
    "sp = connect_to_spotify_api(client_id, client_secret, username, scope, redirect_uri)\n",
    "\n",
    "\n",
    "def get_recently_played():\n",
    "\n",
    "    df_saved_tracks = pd.DataFrame()\n",
    "    track_list = ''\n",
    "    played_ts_list = []\n",
    "    artist_list = []\n",
    "    title_list = []\n",
    "    track_url_list = []\n",
    "    popularity_list = []\n",
    "    album_cover_list = []\n",
    "    more_songs = True\n",
    "\n",
    "\n",
    "    songs = sp.current_user_recently_played(limit=50)\n",
    "    for song in songs['items']:\n",
    "        #join track ids to a string for audio_features function\n",
    "        track_list += song['track']['id'] +','\n",
    "        #get the time when the song was added\n",
    "        played_ts_list.append(song['played_at'])\n",
    "        #get the title of the song\n",
    "        title_list.append(song['track']['name'])\n",
    "        #get popularity\n",
    "        popularity_list.append(song['track']['popularity'])\n",
    "        # get album cover\n",
    "        album_cover_url = song['track']['album']['images'][0]['url']\n",
    "        album_cover_list.append(album_cover_url)\n",
    "        # get track list\n",
    "        track_url = song['track']['external_urls']['spotify']\n",
    "        track_url = track_url.split('/')[-1]\n",
    "        track_url_list.append(track_url)\n",
    "        #get all the artists in the song\n",
    "        artists = song['track']['artists']\n",
    "        artists_name = ''\n",
    "        for artist in artists:\n",
    "            artists_name += artist['name']  + ','\n",
    "        artist_list.append(artists_name[:-1])\n",
    "        track_list = ''\n",
    "        #include timestamp added, title and artists of a song\n",
    "    df_saved_tracks['song_title'] = title_list\n",
    "    df_saved_tracks['artists'] = artist_list\n",
    "    df_saved_tracks['played_at'] = played_ts_list\n",
    "    df_saved_tracks['album_cover'] = album_cover_list\n",
    "    df_saved_tracks['popularity'] = popularity_list\n",
    "    df_saved_tracks['url'] = track_url_list\n",
    "    \n",
    "    return df_saved_tracks"
   ]
  },
  {
   "cell_type": "code",
   "execution_count": null,
   "id": "99aa0495-0b91-4f30-aa01-9a114a3c2bf2",
   "metadata": {},
   "outputs": [],
   "source": []
  }
 ],
 "metadata": {
  "kernelspec": {
   "display_name": "Python 3 (ipykernel)",
   "language": "python",
   "name": "python3"
  },
  "language_info": {
   "codemirror_mode": {
    "name": "ipython",
    "version": 3
   },
   "file_extension": ".py",
   "mimetype": "text/x-python",
   "name": "python",
   "nbconvert_exporter": "python",
   "pygments_lexer": "ipython3",
   "version": "3.8.8"
  }
 },
 "nbformat": 4,
 "nbformat_minor": 5
}
