{
 "cells": [
  {
   "cell_type": "code",
   "execution_count": 1,
   "id": "93c4bc18-398d-4171-badc-62bafd428102",
   "metadata": {},
   "outputs": [],
   "source": [
    "import configparser\n",
    "import json\n",
    "import spotipy\n",
    "import spotipy.util as util\n",
    "import pandas as pd\n",
    "import spotipy.oauth2 as oauth2\n",
    "from spotipy.oauth2 import SpotifyClientCredentials\n",
    "import bamboolib\n",
    "\n",
    "import warnings\n",
    "warnings.filterwarnings(\"ignore\")"
   ]
  },
  {
   "cell_type": "code",
   "execution_count": 2,
   "id": "9c8c8180-97c0-4666-8a02-ccbcfb93b617",
   "metadata": {},
   "outputs": [],
   "source": [
    "with open('../data/raw/spotify_creds.json') as f:\n",
    "    spotify_creds = json.load(f)"
   ]
  },
  {
   "cell_type": "code",
   "execution_count": 3,
   "id": "0fbb52bf-3dd9-47ee-b25b-44b945a351b5",
   "metadata": {},
   "outputs": [],
   "source": [
    "client_id = spotify_creds['client_id']\n",
    "client_secret = spotify_creds['client_secret']\n",
    "username = spotify_creds['username']\n",
    "scope = spotify_creds['scope']\n",
    "redirect_uri = spotify_creds['redirect_url']"
   ]
  },
  {
   "cell_type": "code",
   "execution_count": 4,
   "id": "bdad8076-c382-468b-b57c-09ef6ceaf016",
   "metadata": {},
   "outputs": [],
   "source": [
    "client_credentials_manager = SpotifyClientCredentials(client_id, client_secret) \n",
    "sp = spotipy.Spotify(client_credentials_manager=client_credentials_manager)\n",
    "\n",
    "token = util.prompt_for_user_token(username, scope, client_id, client_secret, redirect_uri)"
   ]
  },
  {
   "cell_type": "code",
   "execution_count": 5,
   "id": "feafd61b-d7d7-4d59-b569-3963ba39d44b",
   "metadata": {},
   "outputs": [],
   "source": [
    "if token:\n",
    "    sp = spotipy.Spotify(auth=token)\n",
    "else:\n",
    "    print(\"Can't get token for\", username)"
   ]
  },
  {
   "cell_type": "code",
   "execution_count": 6,
   "id": "34e888c6-5963-4415-9d2d-9c7cc6fcb6db",
   "metadata": {},
   "outputs": [],
   "source": [
    "df_saved_tracks = pd.DataFrame()\n",
    "track_list = ''\n",
    "added_ts_list = []\n",
    "artist_list = []\n",
    "title_list = []\n",
    "popularity_list = []\n",
    "album_cover_list = []\n",
    "more_songs = True\n",
    "offset_index = 0\n",
    "\n",
    "while more_songs:\n",
    "    songs = sp.current_user_saved_tracks(offset=offset_index)\n",
    "    for song in songs['items']:\n",
    "        #join track ids to a string for audio_features function\n",
    "        track_list += song['track']['id'] +','\n",
    "        #get the time when the song was added\n",
    "        added_ts_list.append(song['added_at'])\n",
    "        #get the title of the song\n",
    "        title_list.append(song['track']['name'])\n",
    "        #get popularity\n",
    "        popularity_list.append(song['track']['popularity'])\n",
    "        album_cover_list.append(song['track']['album']['images'][0]['url'])\n",
    "        #get all the artists in the song\n",
    "        artists = song['track']['artists']\n",
    "        artists_name = ''\n",
    "        for artist in artists:\n",
    "            artists_name += artist['name']  + ','\n",
    "        artist_list.append(artists_name[:-1])\n",
    "    track_list = ''\n",
    "    if songs['next'] == None:\n",
    "        # no more songs in playlist\n",
    "        more_songs = False\n",
    "    else:\n",
    "        # get the next n songs\n",
    "        offset_index += songs['limit']\n",
    "#include timestamp added, title and artists of a song\n",
    "df_saved_tracks['song_title'] = title_list\n",
    "df_saved_tracks['artists'] = artist_list\n",
    "df_saved_tracks['date_added'] = added_ts_list\n",
    "df_saved_tracks['album_cover'] = album_cover_list\n",
    "df_saved_tracks['popularity'] = popularity_list"
   ]
  },
  {
   "cell_type": "code",
   "execution_count": 3,
   "id": "a202aca2-1317-43d8-8686-a3e856cc32e5",
   "metadata": {},
   "outputs": [],
   "source": [
    "client_id = spotify_creds['client_id']\n",
    "client_secret = spotify_creds['client_secret']\n",
    "username = spotify_creds['username']\n",
    "scope = spotify_creds['scope']\n",
    "redirect_uri = spotify_creds['redirect_url']"
   ]
  },
  {
   "cell_type": "code",
   "execution_count": 4,
   "id": "415e9164-fada-4243-b8bf-f6c414ad43bf",
   "metadata": {},
   "outputs": [],
   "source": [
    "def connect_to_spotify_api(client_id, client_secret, username, scope, redirect_uri):\n",
    "    \n",
    "    client_credentials_manager = SpotifyClientCredentials(client_id, client_secret) \n",
    "    sp = spotipy.Spotify(client_credentials_manager=client_credentials_manager)\n",
    "\n",
    "    token = util.prompt_for_user_token(username, scope, client_id, client_secret, redirect_uri)\n",
    "\n",
    "    if token:\n",
    "        sp = spotipy.Spotify(auth=token)\n",
    "    else:\n",
    "        print(\"Can't get token for\", username)\n",
    "        \n",
    "    return sp"
   ]
  },
  {
   "cell_type": "code",
   "execution_count": 5,
   "id": "2a571d56-e8eb-4bac-8135-8b857f0b0ca6",
   "metadata": {},
   "outputs": [],
   "source": [
    "sp = connect_to_spotify_api(client_id, client_secret, username, scope, redirect_uri)"
   ]
  },
  {
   "cell_type": "code",
   "execution_count": 10,
   "id": "d1b1d852-32da-47c6-b359-f9a126f06dea",
   "metadata": {},
   "outputs": [],
   "source": [
    "def get_saved_library(sp):\n",
    "    \n",
    "    df_saved_tracks = pd.DataFrame()\n",
    "    track_list = ''\n",
    "    added_ts_list = []\n",
    "    artist_list = []\n",
    "    title_list = []\n",
    "    popularity_list = []\n",
    "    album_cover_list = []\n",
    "    more_songs = True\n",
    "    offset_index = 0\n",
    "\n",
    "    while more_songs:\n",
    "        songs = sp.current_user_saved_tracks(offset=offset_index)\n",
    "        for song in songs['items']:\n",
    "            #join track ids to a string for audio_features function\n",
    "            track_list += song['track']['id'] +','\n",
    "            #get the time when the song was added\n",
    "            added_ts_list.append(song['added_at'])\n",
    "            #get the title of the song\n",
    "            title_list.append(song['track']['name'])\n",
    "            #get popularity\n",
    "            popularity_list.append(song['track']['popularity'])\n",
    "            album_cover_list.append(song['track']['album']['images'][0]['url'])\n",
    "            #get all the artists in the song\n",
    "            artists = song['track']['artists']\n",
    "            artists_name = ''\n",
    "            for artist in artists:\n",
    "                artists_name += artist['name']  + ','\n",
    "            artist_list.append(artists_name[:-1])\n",
    "        track_list = ''\n",
    "        if songs['next'] == None:\n",
    "            # no more songs in playlist\n",
    "            more_songs = False\n",
    "        else:\n",
    "            # get the next n songs\n",
    "            offset_index += songs['limit']\n",
    "    #include timestamp added, title and artists of a song\n",
    "    df_saved_tracks['song_title'] = title_list\n",
    "    df_saved_tracks['artists'] = artist_list\n",
    "    df_saved_tracks['date_added'] = added_ts_list\n",
    "    df_saved_tracks['album_cover'] = album_cover_list\n",
    "    df_saved_tracks['popularity'] = popularity_list\n",
    "    \n",
    "    return df_saved_tracks"
   ]
  }
 ],
 "metadata": {
  "kernelspec": {
   "display_name": "Python 3 (ipykernel)",
   "language": "python",
   "name": "python3"
  },
  "language_info": {
   "codemirror_mode": {
    "name": "ipython",
    "version": 3
   },
   "file_extension": ".py",
   "mimetype": "text/x-python",
   "name": "python",
   "nbconvert_exporter": "python",
   "pygments_lexer": "ipython3",
   "version": "3.8.8"
  }
 },
 "nbformat": 4,
 "nbformat_minor": 5
}
