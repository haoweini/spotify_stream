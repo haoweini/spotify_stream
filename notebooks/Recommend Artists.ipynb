{
 "cells": [
  {
   "cell_type": "code",
   "execution_count": 1,
   "id": "6790d880-da07-4ac4-90ca-a3470f4d15ed",
   "metadata": {},
   "outputs": [],
   "source": [
    "import configparser\n",
    "import json\n",
    "import spotipy\n",
    "import spotipy.util as util\n",
    "import pandas as pd\n",
    "import spotipy.oauth2 as oauth2\n",
    "from spotipy.oauth2 import SpotifyClientCredentials\n",
    "import bamboolib\n",
    "import numpy as np\n",
    "\n",
    "import warnings\n",
    "warnings.filterwarnings(\"ignore\")"
   ]
  },
  {
   "cell_type": "code",
   "execution_count": 2,
   "id": "f807191f-abab-4614-b79c-f14aa0e03e10",
   "metadata": {},
   "outputs": [],
   "source": [
    "with open('../data/raw/spotify_creds.json') as f:\n",
    "    spotify_creds = json.load(f)\n",
    "\n",
    "with open('../data/raw/spotify_token.json') as f:\n",
    "    spotify_token = json.load(f)\n",
    "\n",
    "client_id = spotify_creds['client_id']\n",
    "client_secret = spotify_creds['client_secret']\n",
    "username = spotify_creds['username']\n",
    "scope = spotify_creds['saved_library_scope']\n",
    "redirect_uri = spotify_creds['saved_library_redirect_url']\n",
    "token = spotify_token['all_access_token']\n",
    "\n",
    "\n",
    "def connect_to_spotify_api(client_id, client_secret, username, scope, redirect_uri):\n",
    "    \n",
    "    client_credentials_manager = SpotifyClientCredentials(client_id, client_secret) \n",
    "    sp = spotipy.Spotify(client_credentials_manager=client_credentials_manager)\n",
    "\n",
    "    #token = util.prompt_for_user_token(username, scope, client_id, client_secret, redirect_uri)\n",
    "    if token:\n",
    "        sp = spotipy.Spotify(auth=token)\n",
    "    else:\n",
    "        print(\"Can't get token for\", username)\n",
    "        \n",
    "    return sp\n",
    "\n",
    "sp = connect_to_spotify_api(client_id, client_secret, username, scope, redirect_uri)"
   ]
  },
  {
   "cell_type": "code",
   "execution_count": 284,
   "id": "63aa9d2c-385a-45de-a36a-adb4f457acd4",
   "metadata": {},
   "outputs": [],
   "source": [
    "def get_saved_library():\n",
    "    \n",
    "    df_saved_tracks = pd.DataFrame()\n",
    "    track_list = ''\n",
    "    added_ts_list = []\n",
    "    artist_list = []\n",
    "    title_list = []\n",
    "    popularity_list = []\n",
    "    album_cover_list = []\n",
    "    track_url_list = []\n",
    "    more_songs = True\n",
    "    offset_index = 0\n",
    "\n",
    "    while more_songs:\n",
    "        songs = sp.current_user_saved_tracks(offset=offset_index)\n",
    "        for song in songs['items']:\n",
    "            #join track ids to a string for audio_features function\n",
    "            track_list += song['track']['id'] +','\n",
    "            #get the time when the song was added\n",
    "            added_ts_list.append(song['added_at'])\n",
    "            #get the title of the song\n",
    "            title_list.append(song['track']['name'])\n",
    "            #get popularity\n",
    "            popularity_list.append(song['track']['popularity'])\n",
    "            album_cover_list.append(song['track']['album']['images'][0]['url'])\n",
    "            # get track list\n",
    "            track_url = song['track']['external_urls']['spotify']\n",
    "            track_url = track_url.split('/')[-1]\n",
    "            track_url_list.append(track_url)\n",
    "            #get all the artists in the song\n",
    "            artists = song['track']['artists']\n",
    "            artists_name = ''\n",
    "            for artist in artists:\n",
    "                artists_name += artist['name']  + ','\n",
    "            artist_list.append(artists_name[:-1])\n",
    "            \n",
    "        track_features = sp.audio_features(track_list[:-1])\n",
    "        df_temp = pd.DataFrame(track_features)\n",
    "        df_temp = df_temp[['acousticness', 'danceability', 'energy', 'speechiness', 'valence', 'tempo']]\n",
    "        df_temp = df_temp.rename(columns={'tempo': 'BPM'})\n",
    "        df_saved_tracks = df_saved_tracks.append(df_temp)\n",
    "        track_list = ''\n",
    "        if songs['next'] == None:\n",
    "            # no more songs in playlist\n",
    "            more_songs = False\n",
    "        else:\n",
    "            # get the next n songs\n",
    "            offset_index += songs['limit']\n",
    "    #include timestamp added, title and artists of a song\n",
    "    df_saved_tracks['song_title'] = title_list\n",
    "    df_saved_tracks['artists'] = artist_list\n",
    "    df_saved_tracks['date_added'] = added_ts_list\n",
    "    df_saved_tracks['album_cover'] = album_cover_list\n",
    "    df_saved_tracks['popularity'] = popularity_list\n",
    "    df_saved_tracks['date_added'] = df_saved_tracks['date_added'].apply(lambda x: x.split('T')[0])\n",
    "    df_saved_tracks['url'] = track_url_list\n",
    "    df_saved_tracks['date_added'] = pd.to_datetime(df_saved_tracks['date_added'], infer_datetime_format=True)\n",
    "    df_saved_tracks['date_added_year'] = df_saved_tracks['date_added'].dt.year\n",
    "    \n",
    "    return df_saved_tracks"
   ]
  },
  {
   "cell_type": "code",
   "execution_count": null,
   "id": "6933c73a-c7f8-46a4-a0e2-7eb9bd3694b4",
   "metadata": {},
   "outputs": [],
   "source": [
    "df_saved = get_saved_library()\n",
    "#df_saved[['BPM']] = NormalizeData(df_saved[['BPM']])"
   ]
  },
  {
   "cell_type": "code",
   "execution_count": 3,
   "id": "bad6b936-c427-4ddb-85b6-e69370444416",
   "metadata": {},
   "outputs": [
    {
     "name": "stdout",
     "output_type": "stream",
     "text": [
      "Current Time is : 22:11:37 BQDlc6AIci7f2HzvLQmm_UBxXSznwMvef_TjO7MnNa5sffDM4JPK2SrkmfYR_5z7NAEIdWWKXkk5WWeEVkHQ6pwRJBxZplUH7nZePO2HE0VWrwtEWBTvODgZtNvcLMuB6WU_xSXbnfDGK8jyxIl_A1i7Viurcmfjy9uL-tvX3YounmUjZEE-tteEwRFi\n"
     ]
    }
   ],
   "source": [
    "from datetime import datetime\n",
    "\n",
    "now = datetime.now()\n",
    "\n",
    "current_time = now.strftime(\"%H:%M:%S\")\n",
    "\n",
    "print(\"Current Time is :\", current_time, token)"
   ]
  },
  {
   "cell_type": "code",
   "execution_count": null,
   "id": "dacfb318-fd73-4c75-aa7f-dfdf663a9615",
   "metadata": {},
   "outputs": [],
   "source": []
  }
 ],
 "metadata": {
  "kernelspec": {
   "display_name": "Python 3 (ipykernel)",
   "language": "python",
   "name": "python3"
  },
  "language_info": {
   "codemirror_mode": {
    "name": "ipython",
    "version": 3
   },
   "file_extension": ".py",
   "mimetype": "text/x-python",
   "name": "python",
   "nbconvert_exporter": "python",
   "pygments_lexer": "ipython3",
   "version": "3.8.8"
  }
 },
 "nbformat": 4,
 "nbformat_minor": 5
}
