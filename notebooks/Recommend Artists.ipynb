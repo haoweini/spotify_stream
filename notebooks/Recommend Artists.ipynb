{
 "cells": [
  {
   "cell_type": "code",
   "execution_count": 1,
   "id": "6790d880-da07-4ac4-90ca-a3470f4d15ed",
   "metadata": {},
   "outputs": [],
   "source": [
    "import configparser\n",
    "import json\n",
    "import spotipy\n",
    "import spotipy.util as util\n",
    "import pandas as pd\n",
    "import spotipy.oauth2 as oauth2\n",
    "from spotipy.oauth2 import SpotifyClientCredentials\n",
    "import bamboolib\n",
    "import numpy as np\n",
    "\n",
    "import warnings\n",
    "warnings.filterwarnings(\"ignore\")"
   ]
  },
  {
   "cell_type": "code",
   "execution_count": 5,
   "id": "f807191f-abab-4614-b79c-f14aa0e03e10",
   "metadata": {},
   "outputs": [],
   "source": [
    "with open('../data/raw/spotify_creds.json') as f:\n",
    "    spotify_creds = json.load(f)\n",
    "\n",
    "with open('../data/raw/spotify_token.json') as f:\n",
    "    spotify_token = json.load(f)\n",
    "\n",
    "client_id = spotify_creds['client_id']\n",
    "client_secret = spotify_creds['client_secret']\n",
    "username = spotify_creds['username']\n",
    "scope = spotify_creds['saved_library_scope']\n",
    "redirect_uri = spotify_creds['saved_library_redirect_url']\n",
    "#token = spotify_token['all_access_token']\n",
    "\n",
    "\n",
    "def connect_to_spotify_api(client_id, client_secret, username, scope, redirect_uri):\n",
    "    \n",
    "    client_credentials_manager = SpotifyClientCredentials(client_id, client_secret) \n",
    "    sp = spotipy.Spotify(client_credentials_manager=client_credentials_manager)\n",
    "\n",
    "    token = util.prompt_for_user_token(username, scope, client_id, client_secret, redirect_uri)\n",
    "    if token:\n",
    "        sp = spotipy.Spotify(auth=token)\n",
    "    else:\n",
    "        print(\"Can't get token for\", username)\n",
    "        \n",
    "    return sp\n",
    "\n",
    "sp = connect_to_spotify_api(client_id, client_secret, username, scope, redirect_uri)"
   ]
  },
  {
   "cell_type": "code",
   "execution_count": 49,
   "id": "63aa9d2c-385a-45de-a36a-adb4f457acd4",
   "metadata": {},
   "outputs": [],
   "source": [
    "def get_saved_library():\n",
    "    \n",
    "    df_saved_tracks = pd.DataFrame()\n",
    "    track_list = ''\n",
    "    added_ts_list = []\n",
    "    artist_list = []\n",
    "    artist_url_list = []\n",
    "    title_list = []\n",
    "    popularity_list = []\n",
    "    album_cover_list = []\n",
    "    track_url_list = []\n",
    "    more_songs = True\n",
    "    offset_index = 0\n",
    "\n",
    "    while more_songs:\n",
    "        songs = sp.current_user_saved_tracks(offset=offset_index)\n",
    "        for song in songs['items']:\n",
    "            #join track ids to a string for audio_features function\n",
    "            track_list += song['track']['id'] +','\n",
    "            #get the time when the song was added\n",
    "            added_ts_list.append(song['added_at'])\n",
    "            #get the title of the song\n",
    "            title_list.append(song['track']['name'])\n",
    "            #get popularity\n",
    "            popularity_list.append(song['track']['popularity'])\n",
    "            album_cover_list.append(song['track']['album']['images'][0]['url'])\n",
    "            # get track list\n",
    "            track_url = song['track']['external_urls']['spotify']\n",
    "            track_url = track_url.split('/')[-1]\n",
    "            track_url_list.append(track_url)\n",
    "            #get all the artists in the song\n",
    "            artists = song['track']['artists']\n",
    "            artists_name = ''\n",
    "            for artist in artists:\n",
    "                artists_name += artist['name']  + ','\n",
    "            artist_list.append(artists_name[:-1])\n",
    "            # aritst_url\n",
    "            artists = song['track']['artists']\n",
    "            artists_urls = ''\n",
    "            for artist in artists:\n",
    "                artist_url = artist['external_urls']['spotify']\n",
    "                artist_url = artist_url.split('/')[-1]\n",
    "                artists_urls += artist_url  + ','\n",
    "            artist_url_list.append(artists_urls[:-1])\n",
    "            \n",
    "        track_features = sp.audio_features(track_list[:-1])\n",
    "        df_temp = pd.DataFrame(track_features)\n",
    "        df_temp = df_temp[['acousticness', 'danceability', 'energy', 'speechiness', 'valence', 'tempo']]\n",
    "        df_temp = df_temp.rename(columns={'tempo': 'BPM'})\n",
    "        df_saved_tracks = df_saved_tracks.append(df_temp)\n",
    "        track_list = ''\n",
    "        if songs['next'] == None:\n",
    "            # no more songs in playlist\n",
    "            more_songs = False\n",
    "        else:\n",
    "            # get the next n songs\n",
    "            offset_index += songs['limit']\n",
    "    #include timestamp added, title and artists of a song\n",
    "    df_saved_tracks['song_title'] = title_list\n",
    "    df_saved_tracks['artists'] = artist_list\n",
    "    df_saved_tracks['artists_url'] = artist_url_list\n",
    "    df_saved_tracks['date_added'] = added_ts_list\n",
    "    df_saved_tracks['album_cover'] = album_cover_list\n",
    "    df_saved_tracks['popularity'] = popularity_list\n",
    "    df_saved_tracks['date_added'] = df_saved_tracks['date_added'].apply(lambda x: x.split('T')[0])\n",
    "    df_saved_tracks['url'] = track_url_list\n",
    "    df_saved_tracks['date_added'] = pd.to_datetime(df_saved_tracks['date_added'], infer_datetime_format=True)\n",
    "    df_saved_tracks['date_added_year'] = df_saved_tracks['date_added'].dt.year\n",
    "    \n",
    "    return df_saved_tracks"
   ]
  },
  {
   "cell_type": "code",
   "execution_count": 50,
   "id": "6933c73a-c7f8-46a4-a0e2-7eb9bd3694b4",
   "metadata": {},
   "outputs": [],
   "source": [
    "df_saved = get_saved_library()\n",
    "#df_saved[['BPM']] = NormalizeData(df_saved[['BPM']])"
   ]
  },
  {
   "cell_type": "code",
   "execution_count": 61,
   "id": "ff5a7ce6-debc-49a6-a9b5-f802ff48c364",
   "metadata": {},
   "outputs": [],
   "source": [
    "df_saved.to_csv('df_saved.csv',index=False)"
   ]
  },
  {
   "cell_type": "code",
   "execution_count": 65,
   "id": "d9786fa8-37db-4f25-80c0-9cb8821b4f70",
   "metadata": {},
   "outputs": [
    {
     "data": {
      "application/vnd.plotly.v1+json": {
       "config": {
        "plotlyServerURL": "https://plot.ly"
       },
       "data": [
        {
         "branchvalues": "total",
         "domain": {
          "x": [
           0,
           1
          ],
          "y": [
           0,
           1
          ]
         },
         "hovertemplate": "labels=%{label}<br>count=%{value}<br>parent=%{parent}<br>id=%{id}<extra></extra>",
         "ids": [
          "2018",
          "2019",
          "2020",
          "2021",
          "2022"
         ],
         "labels": [
          "2018",
          "2019",
          "2020",
          "2021",
          "2022"
         ],
         "name": "",
         "parents": [
          "",
          "",
          "",
          "",
          ""
         ],
         "type": "treemap",
         "values": [
          370,
          335,
          268,
          111,
          22
         ]
        }
       ],
       "layout": {
        "autosize": true,
        "legend": {
         "tracegroupgap": 0
        },
        "margin": {
         "t": 60
        },
        "template": {
         "data": {
          "bar": [
           {
            "error_x": {
             "color": "#2a3f5f"
            },
            "error_y": {
             "color": "#2a3f5f"
            },
            "marker": {
             "line": {
              "color": "#E5ECF6",
              "width": 0.5
             }
            },
            "type": "bar"
           }
          ],
          "barpolar": [
           {
            "marker": {
             "line": {
              "color": "#E5ECF6",
              "width": 0.5
             }
            },
            "type": "barpolar"
           }
          ],
          "carpet": [
           {
            "aaxis": {
             "endlinecolor": "#2a3f5f",
             "gridcolor": "white",
             "linecolor": "white",
             "minorgridcolor": "white",
             "startlinecolor": "#2a3f5f"
            },
            "baxis": {
             "endlinecolor": "#2a3f5f",
             "gridcolor": "white",
             "linecolor": "white",
             "minorgridcolor": "white",
             "startlinecolor": "#2a3f5f"
            },
            "type": "carpet"
           }
          ],
          "choropleth": [
           {
            "colorbar": {
             "outlinewidth": 0,
             "ticks": ""
            },
            "type": "choropleth"
           }
          ],
          "contour": [
           {
            "colorbar": {
             "outlinewidth": 0,
             "ticks": ""
            },
            "colorscale": [
             [
              0,
              "#0d0887"
             ],
             [
              0.1111111111111111,
              "#46039f"
             ],
             [
              0.2222222222222222,
              "#7201a8"
             ],
             [
              0.3333333333333333,
              "#9c179e"
             ],
             [
              0.4444444444444444,
              "#bd3786"
             ],
             [
              0.5555555555555556,
              "#d8576b"
             ],
             [
              0.6666666666666666,
              "#ed7953"
             ],
             [
              0.7777777777777778,
              "#fb9f3a"
             ],
             [
              0.8888888888888888,
              "#fdca26"
             ],
             [
              1,
              "#f0f921"
             ]
            ],
            "type": "contour"
           }
          ],
          "contourcarpet": [
           {
            "colorbar": {
             "outlinewidth": 0,
             "ticks": ""
            },
            "type": "contourcarpet"
           }
          ],
          "heatmap": [
           {
            "colorbar": {
             "outlinewidth": 0,
             "ticks": ""
            },
            "colorscale": [
             [
              0,
              "#0d0887"
             ],
             [
              0.1111111111111111,
              "#46039f"
             ],
             [
              0.2222222222222222,
              "#7201a8"
             ],
             [
              0.3333333333333333,
              "#9c179e"
             ],
             [
              0.4444444444444444,
              "#bd3786"
             ],
             [
              0.5555555555555556,
              "#d8576b"
             ],
             [
              0.6666666666666666,
              "#ed7953"
             ],
             [
              0.7777777777777778,
              "#fb9f3a"
             ],
             [
              0.8888888888888888,
              "#fdca26"
             ],
             [
              1,
              "#f0f921"
             ]
            ],
            "type": "heatmap"
           }
          ],
          "heatmapgl": [
           {
            "colorbar": {
             "outlinewidth": 0,
             "ticks": ""
            },
            "colorscale": [
             [
              0,
              "#0d0887"
             ],
             [
              0.1111111111111111,
              "#46039f"
             ],
             [
              0.2222222222222222,
              "#7201a8"
             ],
             [
              0.3333333333333333,
              "#9c179e"
             ],
             [
              0.4444444444444444,
              "#bd3786"
             ],
             [
              0.5555555555555556,
              "#d8576b"
             ],
             [
              0.6666666666666666,
              "#ed7953"
             ],
             [
              0.7777777777777778,
              "#fb9f3a"
             ],
             [
              0.8888888888888888,
              "#fdca26"
             ],
             [
              1,
              "#f0f921"
             ]
            ],
            "type": "heatmapgl"
           }
          ],
          "histogram": [
           {
            "marker": {
             "colorbar": {
              "outlinewidth": 0,
              "ticks": ""
             }
            },
            "type": "histogram"
           }
          ],
          "histogram2d": [
           {
            "colorbar": {
             "outlinewidth": 0,
             "ticks": ""
            },
            "colorscale": [
             [
              0,
              "#0d0887"
             ],
             [
              0.1111111111111111,
              "#46039f"
             ],
             [
              0.2222222222222222,
              "#7201a8"
             ],
             [
              0.3333333333333333,
              "#9c179e"
             ],
             [
              0.4444444444444444,
              "#bd3786"
             ],
             [
              0.5555555555555556,
              "#d8576b"
             ],
             [
              0.6666666666666666,
              "#ed7953"
             ],
             [
              0.7777777777777778,
              "#fb9f3a"
             ],
             [
              0.8888888888888888,
              "#fdca26"
             ],
             [
              1,
              "#f0f921"
             ]
            ],
            "type": "histogram2d"
           }
          ],
          "histogram2dcontour": [
           {
            "colorbar": {
             "outlinewidth": 0,
             "ticks": ""
            },
            "colorscale": [
             [
              0,
              "#0d0887"
             ],
             [
              0.1111111111111111,
              "#46039f"
             ],
             [
              0.2222222222222222,
              "#7201a8"
             ],
             [
              0.3333333333333333,
              "#9c179e"
             ],
             [
              0.4444444444444444,
              "#bd3786"
             ],
             [
              0.5555555555555556,
              "#d8576b"
             ],
             [
              0.6666666666666666,
              "#ed7953"
             ],
             [
              0.7777777777777778,
              "#fb9f3a"
             ],
             [
              0.8888888888888888,
              "#fdca26"
             ],
             [
              1,
              "#f0f921"
             ]
            ],
            "type": "histogram2dcontour"
           }
          ],
          "mesh3d": [
           {
            "colorbar": {
             "outlinewidth": 0,
             "ticks": ""
            },
            "type": "mesh3d"
           }
          ],
          "parcoords": [
           {
            "line": {
             "colorbar": {
              "outlinewidth": 0,
              "ticks": ""
             }
            },
            "type": "parcoords"
           }
          ],
          "pie": [
           {
            "automargin": true,
            "type": "pie"
           }
          ],
          "scatter": [
           {
            "marker": {
             "colorbar": {
              "outlinewidth": 0,
              "ticks": ""
             }
            },
            "type": "scatter"
           }
          ],
          "scatter3d": [
           {
            "line": {
             "colorbar": {
              "outlinewidth": 0,
              "ticks": ""
             }
            },
            "marker": {
             "colorbar": {
              "outlinewidth": 0,
              "ticks": ""
             }
            },
            "type": "scatter3d"
           }
          ],
          "scattercarpet": [
           {
            "marker": {
             "colorbar": {
              "outlinewidth": 0,
              "ticks": ""
             }
            },
            "type": "scattercarpet"
           }
          ],
          "scattergeo": [
           {
            "marker": {
             "colorbar": {
              "outlinewidth": 0,
              "ticks": ""
             }
            },
            "type": "scattergeo"
           }
          ],
          "scattergl": [
           {
            "marker": {
             "colorbar": {
              "outlinewidth": 0,
              "ticks": ""
             }
            },
            "type": "scattergl"
           }
          ],
          "scattermapbox": [
           {
            "marker": {
             "colorbar": {
              "outlinewidth": 0,
              "ticks": ""
             }
            },
            "type": "scattermapbox"
           }
          ],
          "scatterpolar": [
           {
            "marker": {
             "colorbar": {
              "outlinewidth": 0,
              "ticks": ""
             }
            },
            "type": "scatterpolar"
           }
          ],
          "scatterpolargl": [
           {
            "marker": {
             "colorbar": {
              "outlinewidth": 0,
              "ticks": ""
             }
            },
            "type": "scatterpolargl"
           }
          ],
          "scatterternary": [
           {
            "marker": {
             "colorbar": {
              "outlinewidth": 0,
              "ticks": ""
             }
            },
            "type": "scatterternary"
           }
          ],
          "surface": [
           {
            "colorbar": {
             "outlinewidth": 0,
             "ticks": ""
            },
            "colorscale": [
             [
              0,
              "#0d0887"
             ],
             [
              0.1111111111111111,
              "#46039f"
             ],
             [
              0.2222222222222222,
              "#7201a8"
             ],
             [
              0.3333333333333333,
              "#9c179e"
             ],
             [
              0.4444444444444444,
              "#bd3786"
             ],
             [
              0.5555555555555556,
              "#d8576b"
             ],
             [
              0.6666666666666666,
              "#ed7953"
             ],
             [
              0.7777777777777778,
              "#fb9f3a"
             ],
             [
              0.8888888888888888,
              "#fdca26"
             ],
             [
              1,
              "#f0f921"
             ]
            ],
            "type": "surface"
           }
          ],
          "table": [
           {
            "cells": {
             "fill": {
              "color": "#EBF0F8"
             },
             "line": {
              "color": "white"
             }
            },
            "header": {
             "fill": {
              "color": "#C8D4E3"
             },
             "line": {
              "color": "white"
             }
            },
            "type": "table"
           }
          ]
         },
         "layout": {
          "annotationdefaults": {
           "arrowcolor": "#2a3f5f",
           "arrowhead": 0,
           "arrowwidth": 1
          },
          "autotypenumbers": "strict",
          "coloraxis": {
           "colorbar": {
            "outlinewidth": 0,
            "ticks": ""
           }
          },
          "colorscale": {
           "diverging": [
            [
             0,
             "#8e0152"
            ],
            [
             0.1,
             "#c51b7d"
            ],
            [
             0.2,
             "#de77ae"
            ],
            [
             0.3,
             "#f1b6da"
            ],
            [
             0.4,
             "#fde0ef"
            ],
            [
             0.5,
             "#f7f7f7"
            ],
            [
             0.6,
             "#e6f5d0"
            ],
            [
             0.7,
             "#b8e186"
            ],
            [
             0.8,
             "#7fbc41"
            ],
            [
             0.9,
             "#4d9221"
            ],
            [
             1,
             "#276419"
            ]
           ],
           "sequential": [
            [
             0,
             "#0d0887"
            ],
            [
             0.1111111111111111,
             "#46039f"
            ],
            [
             0.2222222222222222,
             "#7201a8"
            ],
            [
             0.3333333333333333,
             "#9c179e"
            ],
            [
             0.4444444444444444,
             "#bd3786"
            ],
            [
             0.5555555555555556,
             "#d8576b"
            ],
            [
             0.6666666666666666,
             "#ed7953"
            ],
            [
             0.7777777777777778,
             "#fb9f3a"
            ],
            [
             0.8888888888888888,
             "#fdca26"
            ],
            [
             1,
             "#f0f921"
            ]
           ],
           "sequentialminus": [
            [
             0,
             "#0d0887"
            ],
            [
             0.1111111111111111,
             "#46039f"
            ],
            [
             0.2222222222222222,
             "#7201a8"
            ],
            [
             0.3333333333333333,
             "#9c179e"
            ],
            [
             0.4444444444444444,
             "#bd3786"
            ],
            [
             0.5555555555555556,
             "#d8576b"
            ],
            [
             0.6666666666666666,
             "#ed7953"
            ],
            [
             0.7777777777777778,
             "#fb9f3a"
            ],
            [
             0.8888888888888888,
             "#fdca26"
            ],
            [
             1,
             "#f0f921"
            ]
           ]
          },
          "colorway": [
           "#636efa",
           "#EF553B",
           "#00cc96",
           "#ab63fa",
           "#FFA15A",
           "#19d3f3",
           "#FF6692",
           "#B6E880",
           "#FF97FF",
           "#FECB52"
          ],
          "font": {
           "color": "#2a3f5f"
          },
          "geo": {
           "bgcolor": "white",
           "lakecolor": "white",
           "landcolor": "#E5ECF6",
           "showlakes": true,
           "showland": true,
           "subunitcolor": "white"
          },
          "hoverlabel": {
           "align": "left"
          },
          "hovermode": "closest",
          "mapbox": {
           "style": "light"
          },
          "paper_bgcolor": "white",
          "plot_bgcolor": "#E5ECF6",
          "polar": {
           "angularaxis": {
            "gridcolor": "white",
            "linecolor": "white",
            "ticks": ""
           },
           "bgcolor": "#E5ECF6",
           "radialaxis": {
            "gridcolor": "white",
            "linecolor": "white",
            "ticks": ""
           }
          },
          "scene": {
           "xaxis": {
            "backgroundcolor": "#E5ECF6",
            "gridcolor": "white",
            "gridwidth": 2,
            "linecolor": "white",
            "showbackground": true,
            "ticks": "",
            "zerolinecolor": "white"
           },
           "yaxis": {
            "backgroundcolor": "#E5ECF6",
            "gridcolor": "white",
            "gridwidth": 2,
            "linecolor": "white",
            "showbackground": true,
            "ticks": "",
            "zerolinecolor": "white"
           },
           "zaxis": {
            "backgroundcolor": "#E5ECF6",
            "gridcolor": "white",
            "gridwidth": 2,
            "linecolor": "white",
            "showbackground": true,
            "ticks": "",
            "zerolinecolor": "white"
           }
          },
          "shapedefaults": {
           "line": {
            "color": "#2a3f5f"
           }
          },
          "ternary": {
           "aaxis": {
            "gridcolor": "white",
            "linecolor": "white",
            "ticks": ""
           },
           "baxis": {
            "gridcolor": "white",
            "linecolor": "white",
            "ticks": ""
           },
           "bgcolor": "#E5ECF6",
           "caxis": {
            "gridcolor": "white",
            "linecolor": "white",
            "ticks": ""
           }
          },
          "title": {
           "x": 0.05
          },
          "xaxis": {
           "automargin": true,
           "gridcolor": "white",
           "linecolor": "white",
           "ticks": "",
           "title": {
            "standoff": 15
           },
           "zerolinecolor": "white",
           "zerolinewidth": 2
          },
          "yaxis": {
           "automargin": true,
           "gridcolor": "white",
           "linecolor": "white",
           "ticks": "",
           "title": {
            "standoff": 15
           },
           "zerolinecolor": "white",
           "zerolinewidth": 2
          }
         }
        }
       }
      },
      "image/png": "[encoded data removed]",
      "text/html": [
       "<div>                            <div id=\"9b680191-eb2b-46aa-b20d-51c747c9dd99\" class=\"plotly-graph-div\" style=\"height:525px; width:100%;\"></div>            <script type=\"text/javascript\">                require([\"plotly\"], function(Plotly) {                    window.PLOTLYENV=window.PLOTLYENV || {};                                    if (document.getElementById(\"9b680191-eb2b-46aa-b20d-51c747c9dd99\")) {                    Plotly.newPlot(                        \"9b680191-eb2b-46aa-b20d-51c747c9dd99\",                        [{\"branchvalues\": \"total\", \"domain\": {\"x\": [0.0, 1.0], \"y\": [0.0, 1.0]}, \"hovertemplate\": \"labels=%{label}<br>count=%{value}<br>parent=%{parent}<br>id=%{id}<extra></extra>\", \"ids\": [\"2018\", \"2019\", \"2020\", \"2021\", \"2022\"], \"labels\": [\"2018\", \"2019\", \"2020\", \"2021\", \"2022\"], \"name\": \"\", \"parents\": [\"\", \"\", \"\", \"\", \"\"], \"type\": \"treemap\", \"values\": [370, 335, 268, 111, 22]}],                        {\"legend\": {\"tracegroupgap\": 0}, \"margin\": {\"t\": 60}, \"template\": {\"data\": {\"bar\": [{\"error_x\": {\"color\": \"#2a3f5f\"}, \"error_y\": {\"color\": \"#2a3f5f\"}, \"marker\": {\"line\": {\"color\": \"#E5ECF6\", \"width\": 0.5}}, \"type\": \"bar\"}], \"barpolar\": [{\"marker\": {\"line\": {\"color\": \"#E5ECF6\", \"width\": 0.5}}, \"type\": \"barpolar\"}], \"carpet\": [{\"aaxis\": {\"endlinecolor\": \"#2a3f5f\", \"gridcolor\": \"white\", \"linecolor\": \"white\", \"minorgridcolor\": \"white\", \"startlinecolor\": \"#2a3f5f\"}, \"baxis\": {\"endlinecolor\": \"#2a3f5f\", \"gridcolor\": \"white\", \"linecolor\": \"white\", \"minorgridcolor\": \"white\", \"startlinecolor\": \"#2a3f5f\"}, \"type\": \"carpet\"}], \"choropleth\": [{\"colorbar\": {\"outlinewidth\": 0, \"ticks\": \"\"}, \"type\": \"choropleth\"}], \"contour\": [{\"colorbar\": {\"outlinewidth\": 0, \"ticks\": \"\"}, \"colorscale\": [[0.0, \"#0d0887\"], [0.1111111111111111, \"#46039f\"], [0.2222222222222222, \"#7201a8\"], [0.3333333333333333, \"#9c179e\"], [0.4444444444444444, \"#bd3786\"], [0.5555555555555556, \"#d8576b\"], [0.6666666666666666, \"#ed7953\"], [0.7777777777777778, \"#fb9f3a\"], [0.8888888888888888, \"#fdca26\"], [1.0, \"#f0f921\"]], \"type\": \"contour\"}], \"contourcarpet\": [{\"colorbar\": {\"outlinewidth\": 0, \"ticks\": \"\"}, \"type\": \"contourcarpet\"}], \"heatmap\": [{\"colorbar\": {\"outlinewidth\": 0, \"ticks\": \"\"}, \"colorscale\": [[0.0, \"#0d0887\"], [0.1111111111111111, \"#46039f\"], [0.2222222222222222, \"#7201a8\"], [0.3333333333333333, \"#9c179e\"], [0.4444444444444444, \"#bd3786\"], [0.5555555555555556, \"#d8576b\"], [0.6666666666666666, \"#ed7953\"], [0.7777777777777778, \"#fb9f3a\"], [0.8888888888888888, \"#fdca26\"], [1.0, \"#f0f921\"]], \"type\": \"heatmap\"}], \"heatmapgl\": [{\"colorbar\": {\"outlinewidth\": 0, \"ticks\": \"\"}, \"colorscale\": [[0.0, \"#0d0887\"], [0.1111111111111111, \"#46039f\"], [0.2222222222222222, \"#7201a8\"], [0.3333333333333333, \"#9c179e\"], [0.4444444444444444, \"#bd3786\"], [0.5555555555555556, \"#d8576b\"], [0.6666666666666666, \"#ed7953\"], [0.7777777777777778, \"#fb9f3a\"], [0.8888888888888888, \"#fdca26\"], [1.0, \"#f0f921\"]], \"type\": \"heatmapgl\"}], \"histogram\": [{\"marker\": {\"colorbar\": {\"outlinewidth\": 0, \"ticks\": \"\"}}, \"type\": \"histogram\"}], \"histogram2d\": [{\"colorbar\": {\"outlinewidth\": 0, \"ticks\": \"\"}, \"colorscale\": [[0.0, \"#0d0887\"], [0.1111111111111111, \"#46039f\"], [0.2222222222222222, \"#7201a8\"], [0.3333333333333333, \"#9c179e\"], [0.4444444444444444, \"#bd3786\"], [0.5555555555555556, \"#d8576b\"], [0.6666666666666666, \"#ed7953\"], [0.7777777777777778, \"#fb9f3a\"], [0.8888888888888888, \"#fdca26\"], [1.0, \"#f0f921\"]], \"type\": \"histogram2d\"}], \"histogram2dcontour\": [{\"colorbar\": {\"outlinewidth\": 0, \"ticks\": \"\"}, \"colorscale\": [[0.0, \"#0d0887\"], [0.1111111111111111, \"#46039f\"], [0.2222222222222222, \"#7201a8\"], [0.3333333333333333, \"#9c179e\"], [0.4444444444444444, \"#bd3786\"], [0.5555555555555556, \"#d8576b\"], [0.6666666666666666, \"#ed7953\"], [0.7777777777777778, \"#fb9f3a\"], [0.8888888888888888, \"#fdca26\"], [1.0, \"#f0f921\"]], \"type\": \"histogram2dcontour\"}], \"mesh3d\": [{\"colorbar\": {\"outlinewidth\": 0, \"ticks\": \"\"}, \"type\": \"mesh3d\"}], \"parcoords\": [{\"line\": {\"colorbar\": {\"outlinewidth\": 0, \"ticks\": \"\"}}, \"type\": \"parcoords\"}], \"pie\": [{\"automargin\": true, \"type\": \"pie\"}], \"scatter\": [{\"marker\": {\"colorbar\": {\"outlinewidth\": 0, \"ticks\": \"\"}}, \"type\": \"scatter\"}], \"scatter3d\": [{\"line\": {\"colorbar\": {\"outlinewidth\": 0, \"ticks\": \"\"}}, \"marker\": {\"colorbar\": {\"outlinewidth\": 0, \"ticks\": \"\"}}, \"type\": \"scatter3d\"}], \"scattercarpet\": [{\"marker\": {\"colorbar\": {\"outlinewidth\": 0, \"ticks\": \"\"}}, \"type\": \"scattercarpet\"}], \"scattergeo\": [{\"marker\": {\"colorbar\": {\"outlinewidth\": 0, \"ticks\": \"\"}}, \"type\": \"scattergeo\"}], \"scattergl\": [{\"marker\": {\"colorbar\": {\"outlinewidth\": 0, \"ticks\": \"\"}}, \"type\": \"scattergl\"}], \"scattermapbox\": [{\"marker\": {\"colorbar\": {\"outlinewidth\": 0, \"ticks\": \"\"}}, \"type\": \"scattermapbox\"}], \"scatterpolar\": [{\"marker\": {\"colorbar\": {\"outlinewidth\": 0, \"ticks\": \"\"}}, \"type\": \"scatterpolar\"}], \"scatterpolargl\": [{\"marker\": {\"colorbar\": {\"outlinewidth\": 0, \"ticks\": \"\"}}, \"type\": \"scatterpolargl\"}], \"scatterternary\": [{\"marker\": {\"colorbar\": {\"outlinewidth\": 0, \"ticks\": \"\"}}, \"type\": \"scatterternary\"}], \"surface\": [{\"colorbar\": {\"outlinewidth\": 0, \"ticks\": \"\"}, \"colorscale\": [[0.0, \"#0d0887\"], [0.1111111111111111, \"#46039f\"], [0.2222222222222222, \"#7201a8\"], [0.3333333333333333, \"#9c179e\"], [0.4444444444444444, \"#bd3786\"], [0.5555555555555556, \"#d8576b\"], [0.6666666666666666, \"#ed7953\"], [0.7777777777777778, \"#fb9f3a\"], [0.8888888888888888, \"#fdca26\"], [1.0, \"#f0f921\"]], \"type\": \"surface\"}], \"table\": [{\"cells\": {\"fill\": {\"color\": \"#EBF0F8\"}, \"line\": {\"color\": \"white\"}}, \"header\": {\"fill\": {\"color\": \"#C8D4E3\"}, \"line\": {\"color\": \"white\"}}, \"type\": \"table\"}]}, \"layout\": {\"annotationdefaults\": {\"arrowcolor\": \"#2a3f5f\", \"arrowhead\": 0, \"arrowwidth\": 1}, \"autotypenumbers\": \"strict\", \"coloraxis\": {\"colorbar\": {\"outlinewidth\": 0, \"ticks\": \"\"}}, \"colorscale\": {\"diverging\": [[0, \"#8e0152\"], [0.1, \"#c51b7d\"], [0.2, \"#de77ae\"], [0.3, \"#f1b6da\"], [0.4, \"#fde0ef\"], [0.5, \"#f7f7f7\"], [0.6, \"#e6f5d0\"], [0.7, \"#b8e186\"], [0.8, \"#7fbc41\"], [0.9, \"#4d9221\"], [1, \"#276419\"]], \"sequential\": [[0.0, \"#0d0887\"], [0.1111111111111111, \"#46039f\"], [0.2222222222222222, \"#7201a8\"], [0.3333333333333333, \"#9c179e\"], [0.4444444444444444, \"#bd3786\"], [0.5555555555555556, \"#d8576b\"], [0.6666666666666666, \"#ed7953\"], [0.7777777777777778, \"#fb9f3a\"], [0.8888888888888888, \"#fdca26\"], [1.0, \"#f0f921\"]], \"sequentialminus\": [[0.0, \"#0d0887\"], [0.1111111111111111, \"#46039f\"], [0.2222222222222222, \"#7201a8\"], [0.3333333333333333, \"#9c179e\"], [0.4444444444444444, \"#bd3786\"], [0.5555555555555556, \"#d8576b\"], [0.6666666666666666, \"#ed7953\"], [0.7777777777777778, \"#fb9f3a\"], [0.8888888888888888, \"#fdca26\"], [1.0, \"#f0f921\"]]}, \"colorway\": [\"#636efa\", \"#EF553B\", \"#00cc96\", \"#ab63fa\", \"#FFA15A\", \"#19d3f3\", \"#FF6692\", \"#B6E880\", \"#FF97FF\", \"#FECB52\"], \"font\": {\"color\": \"#2a3f5f\"}, \"geo\": {\"bgcolor\": \"white\", \"lakecolor\": \"white\", \"landcolor\": \"#E5ECF6\", \"showlakes\": true, \"showland\": true, \"subunitcolor\": \"white\"}, \"hoverlabel\": {\"align\": \"left\"}, \"hovermode\": \"closest\", \"mapbox\": {\"style\": \"light\"}, \"paper_bgcolor\": \"white\", \"plot_bgcolor\": \"#E5ECF6\", \"polar\": {\"angularaxis\": {\"gridcolor\": \"white\", \"linecolor\": \"white\", \"ticks\": \"\"}, \"bgcolor\": \"#E5ECF6\", \"radialaxis\": {\"gridcolor\": \"white\", \"linecolor\": \"white\", \"ticks\": \"\"}}, \"scene\": {\"xaxis\": {\"backgroundcolor\": \"#E5ECF6\", \"gridcolor\": \"white\", \"gridwidth\": 2, \"linecolor\": \"white\", \"showbackground\": true, \"ticks\": \"\", \"zerolinecolor\": \"white\"}, \"yaxis\": {\"backgroundcolor\": \"#E5ECF6\", \"gridcolor\": \"white\", \"gridwidth\": 2, \"linecolor\": \"white\", \"showbackground\": true, \"ticks\": \"\", \"zerolinecolor\": \"white\"}, \"zaxis\": {\"backgroundcolor\": \"#E5ECF6\", \"gridcolor\": \"white\", \"gridwidth\": 2, \"linecolor\": \"white\", \"showbackground\": true, \"ticks\": \"\", \"zerolinecolor\": \"white\"}}, \"shapedefaults\": {\"line\": {\"color\": \"#2a3f5f\"}}, \"ternary\": {\"aaxis\": {\"gridcolor\": \"white\", \"linecolor\": \"white\", \"ticks\": \"\"}, \"baxis\": {\"gridcolor\": \"white\", \"linecolor\": \"white\", \"ticks\": \"\"}, \"bgcolor\": \"#E5ECF6\", \"caxis\": {\"gridcolor\": \"white\", \"linecolor\": \"white\", \"ticks\": \"\"}}, \"title\": {\"x\": 0.05}, \"xaxis\": {\"automargin\": true, \"gridcolor\": \"white\", \"linecolor\": \"white\", \"ticks\": \"\", \"title\": {\"standoff\": 15}, \"zerolinecolor\": \"white\", \"zerolinewidth\": 2}, \"yaxis\": {\"automargin\": true, \"gridcolor\": \"white\", \"linecolor\": \"white\", \"ticks\": \"\", \"title\": {\"standoff\": 15}, \"zerolinecolor\": \"white\", \"zerolinewidth\": 2}}}},                        {\"responsive\": true}                    ).then(function(){\n",
       "                            \n",
       "var gd = document.getElementById('9b680191-eb2b-46aa-b20d-51c747c9dd99');\n",
       "var x = new MutationObserver(function (mutations, observer) {{\n",
       "        var display = window.getComputedStyle(gd).display;\n",
       "        if (!display || display === 'none') {{\n",
       "            console.log([gd, 'removed!']);\n",
       "            Plotly.purge(gd);\n",
       "            observer.disconnect();\n",
       "        }}\n",
       "}});\n",
       "\n",
       "// Listen for the removal of the full notebook cells\n",
       "var notebookContainer = gd.closest('#notebook-container');\n",
       "if (notebookContainer) {{\n",
       "    x.observe(notebookContainer, {childList: true});\n",
       "}}\n",
       "\n",
       "// Listen for the clearing of the current output cell\n",
       "var outputEl = gd.closest('.output');\n",
       "if (outputEl) {{\n",
       "    x.observe(outputEl, {childList: true});\n",
       "}}\n",
       "\n",
       "                        })                };                });            </script>        </div>"
      ]
     },
     "metadata": {},
     "output_type": "display_data"
    }
   ],
   "source": [
    "import plotly.express as px\n",
    "fig = px.treemap(df_saved, path=['date_added_year'])\n",
    "fig"
   ]
  },
  {
   "cell_type": "code",
   "execution_count": 52,
   "id": "84412c98-d823-4de2-ba45-7b834d7d4c0a",
   "metadata": {},
   "outputs": [],
   "source": [
    "artist_list = []\n",
    "\n",
    "for i in range(len(df_saved)):\n",
    "    artists = df_saved.iloc[i]['artists_url']\n",
    "    for artist in artists.split(','):\n",
    "        artist_list.append(artist)\n",
    "        \n",
    "artist_list = set(artist_list)"
   ]
  },
  {
   "cell_type": "code",
   "execution_count": 59,
   "id": "30afbc64-b4c0-4bb3-876e-d82fe2547849",
   "metadata": {},
   "outputs": [],
   "source": [
    "df_artist_genre = pd.DataFrame()\n",
    "aritst_name_list = []\n",
    "aritst_genre_list = []\n",
    "\n",
    "for i in artist_list:\n",
    "    aritst_name = sp.artist(i)['name']\n",
    "    #print(aritst_name)\n",
    "    aritst_genre = sp.artist(i)['genres']\n",
    "    aritst_name_list.append(aritst_name)\n",
    "    aritst_genre_list.append(aritst_genre)\n",
    "    \n",
    "df_artist_genre['name'] = aritst_name_list\n",
    "df_artist_genre['genre'] = aritst_genre_list"
   ]
  },
  {
   "cell_type": "code",
   "execution_count": 68,
   "id": "5717633b-3fae-40f3-94dc-afc12c80139e",
   "metadata": {},
   "outputs": [],
   "source": [
    "df_artist_detailed_genre = pd.DataFrame()\n",
    "aritst_name_list = []\n",
    "aritst_genre_list = []\n",
    "\n",
    "for i in range(len(df_artist_genre)):\n",
    "    artist = df_artist_genre.iloc[i]['name']\n",
    "    genre_list = df_artist_genre.iloc[i]['genre']\n",
    "    for genre in genre_list:\n",
    "        aritst_name_list.append(artist)\n",
    "        aritst_genre_list.append(genre)\n",
    "        \n",
    "df_artist_detailed_genre['name'] = aritst_name_list\n",
    "df_artist_detailed_genre['genre'] = aritst_genre_list"
   ]
  },
  {
   "cell_type": "code",
   "execution_count": 79,
   "id": "cb7c0f4f-919c-4ff6-a6b1-fa1a27010d7d",
   "metadata": {},
   "outputs": [],
   "source": [
    "top_genre = df_artist_detailed_genre['genre'].value_counts().reset_index().head(5)\n",
    "top_genre = top_genre.rename(columns={'index': 'genre', 'genre': 'count'})\n",
    "top_genre_list = top_genre['genre'].unique()"
   ]
  },
  {
   "cell_type": "code",
   "execution_count": 84,
   "id": "09c0b661-ce7f-42fe-9b90-a0d95fae6d50",
   "metadata": {},
   "outputs": [],
   "source": [
    "df_artist_detailed_genre['genre_new'] = df_artist_detailed_genre['genre'].apply(lambda x : x if x in top_genre_list else 'Other')"
   ]
  },
  {
   "cell_type": "code",
   "execution_count": 86,
   "id": "1e17b2ba-f478-4deb-8781-7953c907a046",
   "metadata": {},
   "outputs": [
    {
     "data": {
      "application/vnd.plotly.v1+json": {
       "config": {
        "plotlyServerURL": "https://plot.ly"
       },
       "data": [
        {
         "branchvalues": "total",
         "domain": {
          "x": [
           0,
           1
          ],
          "y": [
           0,
           1
          ]
         },
         "hovertemplate": "labels=%{label}<br>count=%{value}<br>parent=%{parent}<br>id=%{id}<extra></extra>",
         "ids": [
          "Other",
          "dance pop",
          "edm",
          "electro house",
          "pop",
          "pop dance"
         ],
         "labels": [
          "Other",
          "dance pop",
          "edm",
          "electro house",
          "pop",
          "pop dance"
         ],
         "name": "",
         "parents": [
          "",
          "",
          "",
          "",
          "",
          ""
         ],
         "type": "treemap",
         "values": [
          1962,
          158,
          163,
          141,
          190,
          158
         ]
        }
       ],
       "layout": {
        "autosize": true,
        "legend": {
         "tracegroupgap": 0
        },
        "margin": {
         "t": 60
        },
        "template": {
         "data": {
          "bar": [
           {
            "error_x": {
             "color": "#2a3f5f"
            },
            "error_y": {
             "color": "#2a3f5f"
            },
            "marker": {
             "line": {
              "color": "#E5ECF6",
              "width": 0.5
             }
            },
            "type": "bar"
           }
          ],
          "barpolar": [
           {
            "marker": {
             "line": {
              "color": "#E5ECF6",
              "width": 0.5
             }
            },
            "type": "barpolar"
           }
          ],
          "carpet": [
           {
            "aaxis": {
             "endlinecolor": "#2a3f5f",
             "gridcolor": "white",
             "linecolor": "white",
             "minorgridcolor": "white",
             "startlinecolor": "#2a3f5f"
            },
            "baxis": {
             "endlinecolor": "#2a3f5f",
             "gridcolor": "white",
             "linecolor": "white",
             "minorgridcolor": "white",
             "startlinecolor": "#2a3f5f"
            },
            "type": "carpet"
           }
          ],
          "choropleth": [
           {
            "colorbar": {
             "outlinewidth": 0,
             "ticks": ""
            },
            "type": "choropleth"
           }
          ],
          "contour": [
           {
            "colorbar": {
             "outlinewidth": 0,
             "ticks": ""
            },
            "colorscale": [
             [
              0,
              "#0d0887"
             ],
             [
              0.1111111111111111,
              "#46039f"
             ],
             [
              0.2222222222222222,
              "#7201a8"
             ],
             [
              0.3333333333333333,
              "#9c179e"
             ],
             [
              0.4444444444444444,
              "#bd3786"
             ],
             [
              0.5555555555555556,
              "#d8576b"
             ],
             [
              0.6666666666666666,
              "#ed7953"
             ],
             [
              0.7777777777777778,
              "#fb9f3a"
             ],
             [
              0.8888888888888888,
              "#fdca26"
             ],
             [
              1,
              "#f0f921"
             ]
            ],
            "type": "contour"
           }
          ],
          "contourcarpet": [
           {
            "colorbar": {
             "outlinewidth": 0,
             "ticks": ""
            },
            "type": "contourcarpet"
           }
          ],
          "heatmap": [
           {
            "colorbar": {
             "outlinewidth": 0,
             "ticks": ""
            },
            "colorscale": [
             [
              0,
              "#0d0887"
             ],
             [
              0.1111111111111111,
              "#46039f"
             ],
             [
              0.2222222222222222,
              "#7201a8"
             ],
             [
              0.3333333333333333,
              "#9c179e"
             ],
             [
              0.4444444444444444,
              "#bd3786"
             ],
             [
              0.5555555555555556,
              "#d8576b"
             ],
             [
              0.6666666666666666,
              "#ed7953"
             ],
             [
              0.7777777777777778,
              "#fb9f3a"
             ],
             [
              0.8888888888888888,
              "#fdca26"
             ],
             [
              1,
              "#f0f921"
             ]
            ],
            "type": "heatmap"
           }
          ],
          "heatmapgl": [
           {
            "colorbar": {
             "outlinewidth": 0,
             "ticks": ""
            },
            "colorscale": [
             [
              0,
              "#0d0887"
             ],
             [
              0.1111111111111111,
              "#46039f"
             ],
             [
              0.2222222222222222,
              "#7201a8"
             ],
             [
              0.3333333333333333,
              "#9c179e"
             ],
             [
              0.4444444444444444,
              "#bd3786"
             ],
             [
              0.5555555555555556,
              "#d8576b"
             ],
             [
              0.6666666666666666,
              "#ed7953"
             ],
             [
              0.7777777777777778,
              "#fb9f3a"
             ],
             [
              0.8888888888888888,
              "#fdca26"
             ],
             [
              1,
              "#f0f921"
             ]
            ],
            "type": "heatmapgl"
           }
          ],
          "histogram": [
           {
            "marker": {
             "colorbar": {
              "outlinewidth": 0,
              "ticks": ""
             }
            },
            "type": "histogram"
           }
          ],
          "histogram2d": [
           {
            "colorbar": {
             "outlinewidth": 0,
             "ticks": ""
            },
            "colorscale": [
             [
              0,
              "#0d0887"
             ],
             [
              0.1111111111111111,
              "#46039f"
             ],
             [
              0.2222222222222222,
              "#7201a8"
             ],
             [
              0.3333333333333333,
              "#9c179e"
             ],
             [
              0.4444444444444444,
              "#bd3786"
             ],
             [
              0.5555555555555556,
              "#d8576b"
             ],
             [
              0.6666666666666666,
              "#ed7953"
             ],
             [
              0.7777777777777778,
              "#fb9f3a"
             ],
             [
              0.8888888888888888,
              "#fdca26"
             ],
             [
              1,
              "#f0f921"
             ]
            ],
            "type": "histogram2d"
           }
          ],
          "histogram2dcontour": [
           {
            "colorbar": {
             "outlinewidth": 0,
             "ticks": ""
            },
            "colorscale": [
             [
              0,
              "#0d0887"
             ],
             [
              0.1111111111111111,
              "#46039f"
             ],
             [
              0.2222222222222222,
              "#7201a8"
             ],
             [
              0.3333333333333333,
              "#9c179e"
             ],
             [
              0.4444444444444444,
              "#bd3786"
             ],
             [
              0.5555555555555556,
              "#d8576b"
             ],
             [
              0.6666666666666666,
              "#ed7953"
             ],
             [
              0.7777777777777778,
              "#fb9f3a"
             ],
             [
              0.8888888888888888,
              "#fdca26"
             ],
             [
              1,
              "#f0f921"
             ]
            ],
            "type": "histogram2dcontour"
           }
          ],
          "mesh3d": [
           {
            "colorbar": {
             "outlinewidth": 0,
             "ticks": ""
            },
            "type": "mesh3d"
           }
          ],
          "parcoords": [
           {
            "line": {
             "colorbar": {
              "outlinewidth": 0,
              "ticks": ""
             }
            },
            "type": "parcoords"
           }
          ],
          "pie": [
           {
            "automargin": true,
            "type": "pie"
           }
          ],
          "scatter": [
           {
            "marker": {
             "colorbar": {
              "outlinewidth": 0,
              "ticks": ""
             }
            },
            "type": "scatter"
           }
          ],
          "scatter3d": [
           {
            "line": {
             "colorbar": {
              "outlinewidth": 0,
              "ticks": ""
             }
            },
            "marker": {
             "colorbar": {
              "outlinewidth": 0,
              "ticks": ""
             }
            },
            "type": "scatter3d"
           }
          ],
          "scattercarpet": [
           {
            "marker": {
             "colorbar": {
              "outlinewidth": 0,
              "ticks": ""
             }
            },
            "type": "scattercarpet"
           }
          ],
          "scattergeo": [
           {
            "marker": {
             "colorbar": {
              "outlinewidth": 0,
              "ticks": ""
             }
            },
            "type": "scattergeo"
           }
          ],
          "scattergl": [
           {
            "marker": {
             "colorbar": {
              "outlinewidth": 0,
              "ticks": ""
             }
            },
            "type": "scattergl"
           }
          ],
          "scattermapbox": [
           {
            "marker": {
             "colorbar": {
              "outlinewidth": 0,
              "ticks": ""
             }
            },
            "type": "scattermapbox"
           }
          ],
          "scatterpolar": [
           {
            "marker": {
             "colorbar": {
              "outlinewidth": 0,
              "ticks": ""
             }
            },
            "type": "scatterpolar"
           }
          ],
          "scatterpolargl": [
           {
            "marker": {
             "colorbar": {
              "outlinewidth": 0,
              "ticks": ""
             }
            },
            "type": "scatterpolargl"
           }
          ],
          "scatterternary": [
           {
            "marker": {
             "colorbar": {
              "outlinewidth": 0,
              "ticks": ""
             }
            },
            "type": "scatterternary"
           }
          ],
          "surface": [
           {
            "colorbar": {
             "outlinewidth": 0,
             "ticks": ""
            },
            "colorscale": [
             [
              0,
              "#0d0887"
             ],
             [
              0.1111111111111111,
              "#46039f"
             ],
             [
              0.2222222222222222,
              "#7201a8"
             ],
             [
              0.3333333333333333,
              "#9c179e"
             ],
             [
              0.4444444444444444,
              "#bd3786"
             ],
             [
              0.5555555555555556,
              "#d8576b"
             ],
             [
              0.6666666666666666,
              "#ed7953"
             ],
             [
              0.7777777777777778,
              "#fb9f3a"
             ],
             [
              0.8888888888888888,
              "#fdca26"
             ],
             [
              1,
              "#f0f921"
             ]
            ],
            "type": "surface"
           }
          ],
          "table": [
           {
            "cells": {
             "fill": {
              "color": "#EBF0F8"
             },
             "line": {
              "color": "white"
             }
            },
            "header": {
             "fill": {
              "color": "#C8D4E3"
             },
             "line": {
              "color": "white"
             }
            },
            "type": "table"
           }
          ]
         },
         "layout": {
          "annotationdefaults": {
           "arrowcolor": "#2a3f5f",
           "arrowhead": 0,
           "arrowwidth": 1
          },
          "autotypenumbers": "strict",
          "coloraxis": {
           "colorbar": {
            "outlinewidth": 0,
            "ticks": ""
           }
          },
          "colorscale": {
           "diverging": [
            [
             0,
             "#8e0152"
            ],
            [
             0.1,
             "#c51b7d"
            ],
            [
             0.2,
             "#de77ae"
            ],
            [
             0.3,
             "#f1b6da"
            ],
            [
             0.4,
             "#fde0ef"
            ],
            [
             0.5,
             "#f7f7f7"
            ],
            [
             0.6,
             "#e6f5d0"
            ],
            [
             0.7,
             "#b8e186"
            ],
            [
             0.8,
             "#7fbc41"
            ],
            [
             0.9,
             "#4d9221"
            ],
            [
             1,
             "#276419"
            ]
           ],
           "sequential": [
            [
             0,
             "#0d0887"
            ],
            [
             0.1111111111111111,
             "#46039f"
            ],
            [
             0.2222222222222222,
             "#7201a8"
            ],
            [
             0.3333333333333333,
             "#9c179e"
            ],
            [
             0.4444444444444444,
             "#bd3786"
            ],
            [
             0.5555555555555556,
             "#d8576b"
            ],
            [
             0.6666666666666666,
             "#ed7953"
            ],
            [
             0.7777777777777778,
             "#fb9f3a"
            ],
            [
             0.8888888888888888,
             "#fdca26"
            ],
            [
             1,
             "#f0f921"
            ]
           ],
           "sequentialminus": [
            [
             0,
             "#0d0887"
            ],
            [
             0.1111111111111111,
             "#46039f"
            ],
            [
             0.2222222222222222,
             "#7201a8"
            ],
            [
             0.3333333333333333,
             "#9c179e"
            ],
            [
             0.4444444444444444,
             "#bd3786"
            ],
            [
             0.5555555555555556,
             "#d8576b"
            ],
            [
             0.6666666666666666,
             "#ed7953"
            ],
            [
             0.7777777777777778,
             "#fb9f3a"
            ],
            [
             0.8888888888888888,
             "#fdca26"
            ],
            [
             1,
             "#f0f921"
            ]
           ]
          },
          "colorway": [
           "#636efa",
           "#EF553B",
           "#00cc96",
           "#ab63fa",
           "#FFA15A",
           "#19d3f3",
           "#FF6692",
           "#B6E880",
           "#FF97FF",
           "#FECB52"
          ],
          "font": {
           "color": "#2a3f5f"
          },
          "geo": {
           "bgcolor": "white",
           "lakecolor": "white",
           "landcolor": "#E5ECF6",
           "showlakes": true,
           "showland": true,
           "subunitcolor": "white"
          },
          "hoverlabel": {
           "align": "left"
          },
          "hovermode": "closest",
          "mapbox": {
           "style": "light"
          },
          "paper_bgcolor": "white",
          "plot_bgcolor": "#E5ECF6",
          "polar": {
           "angularaxis": {
            "gridcolor": "white",
            "linecolor": "white",
            "ticks": ""
           },
           "bgcolor": "#E5ECF6",
           "radialaxis": {
            "gridcolor": "white",
            "linecolor": "white",
            "ticks": ""
           }
          },
          "scene": {
           "xaxis": {
            "backgroundcolor": "#E5ECF6",
            "gridcolor": "white",
            "gridwidth": 2,
            "linecolor": "white",
            "showbackground": true,
            "ticks": "",
            "zerolinecolor": "white"
           },
           "yaxis": {
            "backgroundcolor": "#E5ECF6",
            "gridcolor": "white",
            "gridwidth": 2,
            "linecolor": "white",
            "showbackground": true,
            "ticks": "",
            "zerolinecolor": "white"
           },
           "zaxis": {
            "backgroundcolor": "#E5ECF6",
            "gridcolor": "white",
            "gridwidth": 2,
            "linecolor": "white",
            "showbackground": true,
            "ticks": "",
            "zerolinecolor": "white"
           }
          },
          "shapedefaults": {
           "line": {
            "color": "#2a3f5f"
           }
          },
          "ternary": {
           "aaxis": {
            "gridcolor": "white",
            "linecolor": "white",
            "ticks": ""
           },
           "baxis": {
            "gridcolor": "white",
            "linecolor": "white",
            "ticks": ""
           },
           "bgcolor": "#E5ECF6",
           "caxis": {
            "gridcolor": "white",
            "linecolor": "white",
            "ticks": ""
           }
          },
          "title": {
           "x": 0.05
          },
          "xaxis": {
           "automargin": true,
           "gridcolor": "white",
           "linecolor": "white",
           "ticks": "",
           "title": {
            "standoff": 15
           },
           "zerolinecolor": "white",
           "zerolinewidth": 2
          },
          "yaxis": {
           "automargin": true,
           "gridcolor": "white",
           "linecolor": "white",
           "ticks": "",
           "title": {
            "standoff": 15
           },
           "zerolinecolor": "white",
           "zerolinewidth": 2
          }
         }
        }
       }
      },
      "image/png": "[encoded data removed]",
      "text/html": [
       "<div>                            <div id=\"476c4192-4d4f-4e17-aa3c-77ed123d936a\" class=\"plotly-graph-div\" style=\"height:525px; width:100%;\"></div>            <script type=\"text/javascript\">                require([\"plotly\"], function(Plotly) {                    window.PLOTLYENV=window.PLOTLYENV || {};                                    if (document.getElementById(\"476c4192-4d4f-4e17-aa3c-77ed123d936a\")) {                    Plotly.newPlot(                        \"476c4192-4d4f-4e17-aa3c-77ed123d936a\",                        [{\"branchvalues\": \"total\", \"domain\": {\"x\": [0.0, 1.0], \"y\": [0.0, 1.0]}, \"hovertemplate\": \"labels=%{label}<br>count=%{value}<br>parent=%{parent}<br>id=%{id}<extra></extra>\", \"ids\": [\"Other\", \"dance pop\", \"edm\", \"electro house\", \"pop\", \"pop dance\"], \"labels\": [\"Other\", \"dance pop\", \"edm\", \"electro house\", \"pop\", \"pop dance\"], \"name\": \"\", \"parents\": [\"\", \"\", \"\", \"\", \"\", \"\"], \"type\": \"treemap\", \"values\": [1962, 158, 163, 141, 190, 158]}],                        {\"legend\": {\"tracegroupgap\": 0}, \"margin\": {\"t\": 60}, \"template\": {\"data\": {\"bar\": [{\"error_x\": {\"color\": \"#2a3f5f\"}, \"error_y\": {\"color\": \"#2a3f5f\"}, \"marker\": {\"line\": {\"color\": \"#E5ECF6\", \"width\": 0.5}}, \"type\": \"bar\"}], \"barpolar\": [{\"marker\": {\"line\": {\"color\": \"#E5ECF6\", \"width\": 0.5}}, \"type\": \"barpolar\"}], \"carpet\": [{\"aaxis\": {\"endlinecolor\": \"#2a3f5f\", \"gridcolor\": \"white\", \"linecolor\": \"white\", \"minorgridcolor\": \"white\", \"startlinecolor\": \"#2a3f5f\"}, \"baxis\": {\"endlinecolor\": \"#2a3f5f\", \"gridcolor\": \"white\", \"linecolor\": \"white\", \"minorgridcolor\": \"white\", \"startlinecolor\": \"#2a3f5f\"}, \"type\": \"carpet\"}], \"choropleth\": [{\"colorbar\": {\"outlinewidth\": 0, \"ticks\": \"\"}, \"type\": \"choropleth\"}], \"contour\": [{\"colorbar\": {\"outlinewidth\": 0, \"ticks\": \"\"}, \"colorscale\": [[0.0, \"#0d0887\"], [0.1111111111111111, \"#46039f\"], [0.2222222222222222, \"#7201a8\"], [0.3333333333333333, \"#9c179e\"], [0.4444444444444444, \"#bd3786\"], [0.5555555555555556, \"#d8576b\"], [0.6666666666666666, \"#ed7953\"], [0.7777777777777778, \"#fb9f3a\"], [0.8888888888888888, \"#fdca26\"], [1.0, \"#f0f921\"]], \"type\": \"contour\"}], \"contourcarpet\": [{\"colorbar\": {\"outlinewidth\": 0, \"ticks\": \"\"}, \"type\": \"contourcarpet\"}], \"heatmap\": [{\"colorbar\": {\"outlinewidth\": 0, \"ticks\": \"\"}, \"colorscale\": [[0.0, \"#0d0887\"], [0.1111111111111111, \"#46039f\"], [0.2222222222222222, \"#7201a8\"], [0.3333333333333333, \"#9c179e\"], [0.4444444444444444, \"#bd3786\"], [0.5555555555555556, \"#d8576b\"], [0.6666666666666666, \"#ed7953\"], [0.7777777777777778, \"#fb9f3a\"], [0.8888888888888888, \"#fdca26\"], [1.0, \"#f0f921\"]], \"type\": \"heatmap\"}], \"heatmapgl\": [{\"colorbar\": {\"outlinewidth\": 0, \"ticks\": \"\"}, \"colorscale\": [[0.0, \"#0d0887\"], [0.1111111111111111, \"#46039f\"], [0.2222222222222222, \"#7201a8\"], [0.3333333333333333, \"#9c179e\"], [0.4444444444444444, \"#bd3786\"], [0.5555555555555556, \"#d8576b\"], [0.6666666666666666, \"#ed7953\"], [0.7777777777777778, \"#fb9f3a\"], [0.8888888888888888, \"#fdca26\"], [1.0, \"#f0f921\"]], \"type\": \"heatmapgl\"}], \"histogram\": [{\"marker\": {\"colorbar\": {\"outlinewidth\": 0, \"ticks\": \"\"}}, \"type\": \"histogram\"}], \"histogram2d\": [{\"colorbar\": {\"outlinewidth\": 0, \"ticks\": \"\"}, \"colorscale\": [[0.0, \"#0d0887\"], [0.1111111111111111, \"#46039f\"], [0.2222222222222222, \"#7201a8\"], [0.3333333333333333, \"#9c179e\"], [0.4444444444444444, \"#bd3786\"], [0.5555555555555556, \"#d8576b\"], [0.6666666666666666, \"#ed7953\"], [0.7777777777777778, \"#fb9f3a\"], [0.8888888888888888, \"#fdca26\"], [1.0, \"#f0f921\"]], \"type\": \"histogram2d\"}], \"histogram2dcontour\": [{\"colorbar\": {\"outlinewidth\": 0, \"ticks\": \"\"}, \"colorscale\": [[0.0, \"#0d0887\"], [0.1111111111111111, \"#46039f\"], [0.2222222222222222, \"#7201a8\"], [0.3333333333333333, \"#9c179e\"], [0.4444444444444444, \"#bd3786\"], [0.5555555555555556, \"#d8576b\"], [0.6666666666666666, \"#ed7953\"], [0.7777777777777778, \"#fb9f3a\"], [0.8888888888888888, \"#fdca26\"], [1.0, \"#f0f921\"]], \"type\": \"histogram2dcontour\"}], \"mesh3d\": [{\"colorbar\": {\"outlinewidth\": 0, \"ticks\": \"\"}, \"type\": \"mesh3d\"}], \"parcoords\": [{\"line\": {\"colorbar\": {\"outlinewidth\": 0, \"ticks\": \"\"}}, \"type\": \"parcoords\"}], \"pie\": [{\"automargin\": true, \"type\": \"pie\"}], \"scatter\": [{\"marker\": {\"colorbar\": {\"outlinewidth\": 0, \"ticks\": \"\"}}, \"type\": \"scatter\"}], \"scatter3d\": [{\"line\": {\"colorbar\": {\"outlinewidth\": 0, \"ticks\": \"\"}}, \"marker\": {\"colorbar\": {\"outlinewidth\": 0, \"ticks\": \"\"}}, \"type\": \"scatter3d\"}], \"scattercarpet\": [{\"marker\": {\"colorbar\": {\"outlinewidth\": 0, \"ticks\": \"\"}}, \"type\": \"scattercarpet\"}], \"scattergeo\": [{\"marker\": {\"colorbar\": {\"outlinewidth\": 0, \"ticks\": \"\"}}, \"type\": \"scattergeo\"}], \"scattergl\": [{\"marker\": {\"colorbar\": {\"outlinewidth\": 0, \"ticks\": \"\"}}, \"type\": \"scattergl\"}], \"scattermapbox\": [{\"marker\": {\"colorbar\": {\"outlinewidth\": 0, \"ticks\": \"\"}}, \"type\": \"scattermapbox\"}], \"scatterpolar\": [{\"marker\": {\"colorbar\": {\"outlinewidth\": 0, \"ticks\": \"\"}}, \"type\": \"scatterpolar\"}], \"scatterpolargl\": [{\"marker\": {\"colorbar\": {\"outlinewidth\": 0, \"ticks\": \"\"}}, \"type\": \"scatterpolargl\"}], \"scatterternary\": [{\"marker\": {\"colorbar\": {\"outlinewidth\": 0, \"ticks\": \"\"}}, \"type\": \"scatterternary\"}], \"surface\": [{\"colorbar\": {\"outlinewidth\": 0, \"ticks\": \"\"}, \"colorscale\": [[0.0, \"#0d0887\"], [0.1111111111111111, \"#46039f\"], [0.2222222222222222, \"#7201a8\"], [0.3333333333333333, \"#9c179e\"], [0.4444444444444444, \"#bd3786\"], [0.5555555555555556, \"#d8576b\"], [0.6666666666666666, \"#ed7953\"], [0.7777777777777778, \"#fb9f3a\"], [0.8888888888888888, \"#fdca26\"], [1.0, \"#f0f921\"]], \"type\": \"surface\"}], \"table\": [{\"cells\": {\"fill\": {\"color\": \"#EBF0F8\"}, \"line\": {\"color\": \"white\"}}, \"header\": {\"fill\": {\"color\": \"#C8D4E3\"}, \"line\": {\"color\": \"white\"}}, \"type\": \"table\"}]}, \"layout\": {\"annotationdefaults\": {\"arrowcolor\": \"#2a3f5f\", \"arrowhead\": 0, \"arrowwidth\": 1}, \"autotypenumbers\": \"strict\", \"coloraxis\": {\"colorbar\": {\"outlinewidth\": 0, \"ticks\": \"\"}}, \"colorscale\": {\"diverging\": [[0, \"#8e0152\"], [0.1, \"#c51b7d\"], [0.2, \"#de77ae\"], [0.3, \"#f1b6da\"], [0.4, \"#fde0ef\"], [0.5, \"#f7f7f7\"], [0.6, \"#e6f5d0\"], [0.7, \"#b8e186\"], [0.8, \"#7fbc41\"], [0.9, \"#4d9221\"], [1, \"#276419\"]], \"sequential\": [[0.0, \"#0d0887\"], [0.1111111111111111, \"#46039f\"], [0.2222222222222222, \"#7201a8\"], [0.3333333333333333, \"#9c179e\"], [0.4444444444444444, \"#bd3786\"], [0.5555555555555556, \"#d8576b\"], [0.6666666666666666, \"#ed7953\"], [0.7777777777777778, \"#fb9f3a\"], [0.8888888888888888, \"#fdca26\"], [1.0, \"#f0f921\"]], \"sequentialminus\": [[0.0, \"#0d0887\"], [0.1111111111111111, \"#46039f\"], [0.2222222222222222, \"#7201a8\"], [0.3333333333333333, \"#9c179e\"], [0.4444444444444444, \"#bd3786\"], [0.5555555555555556, \"#d8576b\"], [0.6666666666666666, \"#ed7953\"], [0.7777777777777778, \"#fb9f3a\"], [0.8888888888888888, \"#fdca26\"], [1.0, \"#f0f921\"]]}, \"colorway\": [\"#636efa\", \"#EF553B\", \"#00cc96\", \"#ab63fa\", \"#FFA15A\", \"#19d3f3\", \"#FF6692\", \"#B6E880\", \"#FF97FF\", \"#FECB52\"], \"font\": {\"color\": \"#2a3f5f\"}, \"geo\": {\"bgcolor\": \"white\", \"lakecolor\": \"white\", \"landcolor\": \"#E5ECF6\", \"showlakes\": true, \"showland\": true, \"subunitcolor\": \"white\"}, \"hoverlabel\": {\"align\": \"left\"}, \"hovermode\": \"closest\", \"mapbox\": {\"style\": \"light\"}, \"paper_bgcolor\": \"white\", \"plot_bgcolor\": \"#E5ECF6\", \"polar\": {\"angularaxis\": {\"gridcolor\": \"white\", \"linecolor\": \"white\", \"ticks\": \"\"}, \"bgcolor\": \"#E5ECF6\", \"radialaxis\": {\"gridcolor\": \"white\", \"linecolor\": \"white\", \"ticks\": \"\"}}, \"scene\": {\"xaxis\": {\"backgroundcolor\": \"#E5ECF6\", \"gridcolor\": \"white\", \"gridwidth\": 2, \"linecolor\": \"white\", \"showbackground\": true, \"ticks\": \"\", \"zerolinecolor\": \"white\"}, \"yaxis\": {\"backgroundcolor\": \"#E5ECF6\", \"gridcolor\": \"white\", \"gridwidth\": 2, \"linecolor\": \"white\", \"showbackground\": true, \"ticks\": \"\", \"zerolinecolor\": \"white\"}, \"zaxis\": {\"backgroundcolor\": \"#E5ECF6\", \"gridcolor\": \"white\", \"gridwidth\": 2, \"linecolor\": \"white\", \"showbackground\": true, \"ticks\": \"\", \"zerolinecolor\": \"white\"}}, \"shapedefaults\": {\"line\": {\"color\": \"#2a3f5f\"}}, \"ternary\": {\"aaxis\": {\"gridcolor\": \"white\", \"linecolor\": \"white\", \"ticks\": \"\"}, \"baxis\": {\"gridcolor\": \"white\", \"linecolor\": \"white\", \"ticks\": \"\"}, \"bgcolor\": \"#E5ECF6\", \"caxis\": {\"gridcolor\": \"white\", \"linecolor\": \"white\", \"ticks\": \"\"}}, \"title\": {\"x\": 0.05}, \"xaxis\": {\"automargin\": true, \"gridcolor\": \"white\", \"linecolor\": \"white\", \"ticks\": \"\", \"title\": {\"standoff\": 15}, \"zerolinecolor\": \"white\", \"zerolinewidth\": 2}, \"yaxis\": {\"automargin\": true, \"gridcolor\": \"white\", \"linecolor\": \"white\", \"ticks\": \"\", \"title\": {\"standoff\": 15}, \"zerolinecolor\": \"white\", \"zerolinewidth\": 2}}}},                        {\"responsive\": true}                    ).then(function(){\n",
       "                            \n",
       "var gd = document.getElementById('476c4192-4d4f-4e17-aa3c-77ed123d936a');\n",
       "var x = new MutationObserver(function (mutations, observer) {{\n",
       "        var display = window.getComputedStyle(gd).display;\n",
       "        if (!display || display === 'none') {{\n",
       "            console.log([gd, 'removed!']);\n",
       "            Plotly.purge(gd);\n",
       "            observer.disconnect();\n",
       "        }}\n",
       "}});\n",
       "\n",
       "// Listen for the removal of the full notebook cells\n",
       "var notebookContainer = gd.closest('#notebook-container');\n",
       "if (notebookContainer) {{\n",
       "    x.observe(notebookContainer, {childList: true});\n",
       "}}\n",
       "\n",
       "// Listen for the clearing of the current output cell\n",
       "var outputEl = gd.closest('.output');\n",
       "if (outputEl) {{\n",
       "    x.observe(outputEl, {childList: true});\n",
       "}}\n",
       "\n",
       "                        })                };                });            </script>        </div>"
      ]
     },
     "metadata": {},
     "output_type": "display_data"
    }
   ],
   "source": [
    "import plotly.express as px\n",
    "fig = px.treemap(df_artist_detailed_genre, path=['genre_new'])\n",
    "fig"
   ]
  },
  {
   "cell_type": "code",
   "execution_count": 87,
   "id": "11fb6653-f48b-4647-acda-d9f4e58cf535",
   "metadata": {},
   "outputs": [
    {
     "data": {
      "application/vnd.jupyter.widget-view+json": {
       "model_id": "3c42ac45b1bb4063906e5dc3c5c210c1"
      },
      "text/html": [
       "<div>\n",
       "<style scoped>\n",
       "    .dataframe tbody tr th:only-of-type {\n",
       "        vertical-align: middle;\n",
       "    }\n",
       "\n",
       "    .dataframe tbody tr th {\n",
       "        vertical-align: top;\n",
       "    }\n",
       "\n",
       "    .dataframe thead th {\n",
       "        text-align: right;\n",
       "    }\n",
       "</style>\n",
       "<table border=\"1\" class=\"dataframe\">\n",
       "  <thead>\n",
       "    <tr style=\"text-align: right;\">\n",
       "      <th></th>\n",
       "      <th>name</th>\n",
       "      <th>genre</th>\n",
       "      <th>genre_new</th>\n",
       "    </tr>\n",
       "  </thead>\n",
       "  <tbody>\n",
       "    <tr>\n",
       "      <th>0</th>\n",
       "      <td>Tony Junior</td>\n",
       "      <td>big room</td>\n",
       "      <td>Other</td>\n",
       "    </tr>\n",
       "    <tr>\n",
       "      <th>1</th>\n",
       "      <td>Tony Junior</td>\n",
       "      <td>deep big room</td>\n",
       "      <td>Other</td>\n",
       "    </tr>\n",
       "    <tr>\n",
       "      <th>2</th>\n",
       "      <td>Tony Junior</td>\n",
       "      <td>dutch house</td>\n",
       "      <td>Other</td>\n",
       "    </tr>\n",
       "    <tr>\n",
       "      <th>3</th>\n",
       "      <td>Tony Junior</td>\n",
       "      <td>edm</td>\n",
       "      <td>edm</td>\n",
       "    </tr>\n",
       "    <tr>\n",
       "      <th>4</th>\n",
       "      <td>Tony Junior</td>\n",
       "      <td>electro house</td>\n",
       "      <td>electro house</td>\n",
       "    </tr>\n",
       "    <tr>\n",
       "      <th>...</th>\n",
       "      <td>...</td>\n",
       "      <td>...</td>\n",
       "      <td>...</td>\n",
       "    </tr>\n",
       "    <tr>\n",
       "      <th>2767</th>\n",
       "      <td>RANI</td>\n",
       "      <td>uk pop</td>\n",
       "      <td>Other</td>\n",
       "    </tr>\n",
       "    <tr>\n",
       "      <th>2768</th>\n",
       "      <td>SHY Martin</td>\n",
       "      <td>alt z</td>\n",
       "      <td>Other</td>\n",
       "    </tr>\n",
       "    <tr>\n",
       "      <th>2769</th>\n",
       "      <td>SHY Martin</td>\n",
       "      <td>electropop</td>\n",
       "      <td>Other</td>\n",
       "    </tr>\n",
       "    <tr>\n",
       "      <th>2770</th>\n",
       "      <td>SHY Martin</td>\n",
       "      <td>pop</td>\n",
       "      <td>pop</td>\n",
       "    </tr>\n",
       "    <tr>\n",
       "      <th>2771</th>\n",
       "      <td>SHY Martin</td>\n",
       "      <td>swedish electropop</td>\n",
       "      <td>Other</td>\n",
       "    </tr>\n",
       "  </tbody>\n",
       "</table>\n",
       "<p>2772 rows × 3 columns</p>\n",
       "</div>"
      ],
      "text/plain": [
       "             name               genre      genre_new\n",
       "0     Tony Junior            big room          Other\n",
       "1     Tony Junior       deep big room          Other\n",
       "2     Tony Junior         dutch house          Other\n",
       "3     Tony Junior                 edm            edm\n",
       "4     Tony Junior       electro house  electro house\n",
       "...           ...                 ...            ...\n",
       "2767         RANI              uk pop          Other\n",
       "2768   SHY Martin               alt z          Other\n",
       "2769   SHY Martin          electropop          Other\n",
       "2770   SHY Martin                 pop            pop\n",
       "2771   SHY Martin  swedish electropop          Other\n",
       "\n",
       "[2772 rows x 3 columns]"
      ]
     },
     "metadata": {},
     "output_type": "display_data"
    }
   ],
   "source": [
    "df_artist_detailed_genre"
   ]
  },
  {
   "cell_type": "code",
   "execution_count": 89,
   "id": "ceb5ab63-d1e9-469f-a08e-c8bd32964329",
   "metadata": {},
   "outputs": [
    {
     "data": {
      "application/vnd.jupyter.widget-view+json": {
       "model_id": "9563b0be12df46deb2dbe8144382f48f"
      },
      "text/html": [
       "<div>\n",
       "<style scoped>\n",
       "    .dataframe tbody tr th:only-of-type {\n",
       "        vertical-align: middle;\n",
       "    }\n",
       "\n",
       "    .dataframe tbody tr th {\n",
       "        vertical-align: top;\n",
       "    }\n",
       "\n",
       "    .dataframe thead th {\n",
       "        text-align: right;\n",
       "    }\n",
       "</style>\n",
       "<table border=\"1\" class=\"dataframe\">\n",
       "  <thead>\n",
       "    <tr style=\"text-align: right;\">\n",
       "      <th></th>\n",
       "      <th>acousticness</th>\n",
       "      <th>danceability</th>\n",
       "      <th>energy</th>\n",
       "      <th>speechiness</th>\n",
       "      <th>valence</th>\n",
       "      <th>BPM</th>\n",
       "      <th>song_title</th>\n",
       "      <th>artists</th>\n",
       "      <th>artists_url</th>\n",
       "      <th>date_added</th>\n",
       "      <th>album_cover</th>\n",
       "      <th>popularity</th>\n",
       "      <th>url</th>\n",
       "      <th>date_added_year</th>\n",
       "    </tr>\n",
       "  </thead>\n",
       "  <tbody>\n",
       "    <tr>\n",
       "      <th>17</th>\n",
       "      <td>0.229000</td>\n",
       "      <td>0.469</td>\n",
       "      <td>0.497</td>\n",
       "      <td>0.0301</td>\n",
       "      <td>0.147</td>\n",
       "      <td>144.945</td>\n",
       "      <td>Surrender</td>\n",
       "      <td>Culture Code,Aloma Steele</td>\n",
       "      <td>2FF8wcGpikv5RFbAK1rvdZ,0Th7ebqyWRIwNfNDIkEpNX</td>\n",
       "      <td>2021-05-16</td>\n",
       "      <td>https://i.scdn.co/image/ab67616d0000b273dc2717...</td>\n",
       "      <td>33</td>\n",
       "      <td>6uWqUaSwMjdXstqYICzIOj</td>\n",
       "      <td>2021</td>\n",
       "    </tr>\n",
       "    <tr>\n",
       "      <th>12</th>\n",
       "      <td>0.097200</td>\n",
       "      <td>0.725</td>\n",
       "      <td>0.447</td>\n",
       "      <td>0.0466</td>\n",
       "      <td>0.369</td>\n",
       "      <td>100.993</td>\n",
       "      <td>No One Nobody (feat. Tannergard) - Extended Mix</td>\n",
       "      <td>LVNDSCAPE,Tannergard</td>\n",
       "      <td>2QlwnS23KrBeshXFyK5U6M,5SkFO3lmDnuFTMIOMK8Bxj</td>\n",
       "      <td>2020-05-19</td>\n",
       "      <td>https://i.scdn.co/image/ab67616d0000b273dd2f9a...</td>\n",
       "      <td>13</td>\n",
       "      <td>35FBQRowt0ysnLxRdnKTQi</td>\n",
       "      <td>2020</td>\n",
       "    </tr>\n",
       "    <tr>\n",
       "      <th>12</th>\n",
       "      <td>0.433000</td>\n",
       "      <td>0.448</td>\n",
       "      <td>0.603</td>\n",
       "      <td>0.0640</td>\n",
       "      <td>0.422</td>\n",
       "      <td>205.272</td>\n",
       "      <td>Lover (Remix) [feat. Shawn Mendes]</td>\n",
       "      <td>Taylor Swift,Shawn Mendes</td>\n",
       "      <td>06HL4z0CvFAxyc27GXpf02,7n2wHs1TKAczGzO7Dd2rGr</td>\n",
       "      <td>2020-03-19</td>\n",
       "      <td>https://i.scdn.co/image/ab67616d0000b27359457b...</td>\n",
       "      <td>72</td>\n",
       "      <td>3i9UVldZOE0aD0JnyfAZZ0</td>\n",
       "      <td>2020</td>\n",
       "    </tr>\n",
       "    <tr>\n",
       "      <th>8</th>\n",
       "      <td>0.267000</td>\n",
       "      <td>0.810</td>\n",
       "      <td>0.700</td>\n",
       "      <td>0.0399</td>\n",
       "      <td>0.193</td>\n",
       "      <td>116.019</td>\n",
       "      <td>End of Time</td>\n",
       "      <td>K-391,Alan Walker,Ahrix</td>\n",
       "      <td>6pWcSL9wSJZQ9ne0TnhdWr,7vk5e3vY1uw9plTHJAMwjN,...</td>\n",
       "      <td>2020-03-06</td>\n",
       "      <td>https://i.scdn.co/image/ab67616d0000b27349b9fb...</td>\n",
       "      <td>71</td>\n",
       "      <td>67O8CWXxPsfz8orZVGMQwf</td>\n",
       "      <td>2020</td>\n",
       "    </tr>\n",
       "    <tr>\n",
       "      <th>16</th>\n",
       "      <td>0.080300</td>\n",
       "      <td>0.677</td>\n",
       "      <td>0.737</td>\n",
       "      <td>0.1010</td>\n",
       "      <td>0.529</td>\n",
       "      <td>126.076</td>\n",
       "      <td>Can We Pretend (feat. Cash Cash) - MOTi Remix</td>\n",
       "      <td>P!nk,Cash Cash,MOTi</td>\n",
       "      <td>1KCSPY1glIKqW2TotWuXOR,1LOB7jTeEV14pHai6EXSzF,...</td>\n",
       "      <td>2019-09-22</td>\n",
       "      <td>https://i.scdn.co/image/ab67616d0000b27325a9ca...</td>\n",
       "      <td>31</td>\n",
       "      <td>6wOGUUk5ys4jDEjUN5Xj1x</td>\n",
       "      <td>2019</td>\n",
       "    </tr>\n",
       "    <tr>\n",
       "      <th>19</th>\n",
       "      <td>0.446000</td>\n",
       "      <td>0.679</td>\n",
       "      <td>0.744</td>\n",
       "      <td>0.0305</td>\n",
       "      <td>0.523</td>\n",
       "      <td>117.994</td>\n",
       "      <td>Rendezvous</td>\n",
       "      <td>DEAMN</td>\n",
       "      <td>1Q50Y9cXWlkNEG6gJfUP1e</td>\n",
       "      <td>2019-08-17</td>\n",
       "      <td>https://i.scdn.co/image/ab67616d0000b273ab5191...</td>\n",
       "      <td>0</td>\n",
       "      <td>0CgoJjztyESsK4pq3UIIKI</td>\n",
       "      <td>2019</td>\n",
       "    </tr>\n",
       "    <tr>\n",
       "      <th>13</th>\n",
       "      <td>0.371000</td>\n",
       "      <td>0.666</td>\n",
       "      <td>0.720</td>\n",
       "      <td>0.0269</td>\n",
       "      <td>0.312</td>\n",
       "      <td>99.970</td>\n",
       "      <td>End Of The Night</td>\n",
       "      <td>Danny Avila</td>\n",
       "      <td>5y3G1B8cpCTaoq0uDgjwzH</td>\n",
       "      <td>2019-04-27</td>\n",
       "      <td>https://i.scdn.co/image/ab67616d0000b273c27d89...</td>\n",
       "      <td>60</td>\n",
       "      <td>46n9OJc7LOIVdj8t2l5WA5</td>\n",
       "      <td>2019</td>\n",
       "    </tr>\n",
       "    <tr>\n",
       "      <th>19</th>\n",
       "      <td>0.211000</td>\n",
       "      <td>0.491</td>\n",
       "      <td>0.693</td>\n",
       "      <td>0.0377</td>\n",
       "      <td>0.412</td>\n",
       "      <td>90.027</td>\n",
       "      <td>Hymn for the Weekend</td>\n",
       "      <td>Coldplay</td>\n",
       "      <td>4gzpq5DPGxSnKTe4SA8HAU</td>\n",
       "      <td>2019-04-11</td>\n",
       "      <td>https://i.scdn.co/image/ab67616d0000b2738ff7c3...</td>\n",
       "      <td>85</td>\n",
       "      <td>3RiPr603aXAoi4GHyXx0uy</td>\n",
       "      <td>2019</td>\n",
       "    </tr>\n",
       "    <tr>\n",
       "      <th>8</th>\n",
       "      <td>0.023600</td>\n",
       "      <td>0.542</td>\n",
       "      <td>0.894</td>\n",
       "      <td>0.0676</td>\n",
       "      <td>0.296</td>\n",
       "      <td>127.947</td>\n",
       "      <td>Surrender</td>\n",
       "      <td>Cash Cash</td>\n",
       "      <td>1LOB7jTeEV14pHai6EXSzF</td>\n",
       "      <td>2019-04-05</td>\n",
       "      <td>https://i.scdn.co/image/ab67616d0000b27359793c...</td>\n",
       "      <td>0</td>\n",
       "      <td>3rwdcyPQ37SSsf1loOpux9</td>\n",
       "      <td>2019</td>\n",
       "    </tr>\n",
       "    <tr>\n",
       "      <th>18</th>\n",
       "      <td>0.064800</td>\n",
       "      <td>0.724</td>\n",
       "      <td>0.702</td>\n",
       "      <td>0.0429</td>\n",
       "      <td>0.688</td>\n",
       "      <td>106.044</td>\n",
       "      <td>No New Friends</td>\n",
       "      <td>Sia,Diplo,Labrinth,LSD</td>\n",
       "      <td>5WUlDfRSoLAfcVSX1WnrxN,5fMUXHkw8R8eOP2RNVYEZX,...</td>\n",
       "      <td>2019-03-27</td>\n",
       "      <td>https://i.scdn.co/image/ab67616d0000b2738dc455...</td>\n",
       "      <td>0</td>\n",
       "      <td>3Y7a0typ6ik1KscmebXd6D</td>\n",
       "      <td>2019</td>\n",
       "    </tr>\n",
       "    <tr>\n",
       "      <th>12</th>\n",
       "      <td>0.000767</td>\n",
       "      <td>0.592</td>\n",
       "      <td>0.988</td>\n",
       "      <td>0.0997</td>\n",
       "      <td>0.268</td>\n",
       "      <td>149.985</td>\n",
       "      <td>Like A Bitch - Extended Mix</td>\n",
       "      <td>Zomboy</td>\n",
       "      <td>0ycHhPwPvoaO4VGzmMnXGq</td>\n",
       "      <td>2018-12-04</td>\n",
       "      <td>https://i.scdn.co/image/ab67616d0000b273613b4a...</td>\n",
       "      <td>49</td>\n",
       "      <td>72RFLY7sigTDszBRAKg9Mf</td>\n",
       "      <td>2018</td>\n",
       "    </tr>\n",
       "    <tr>\n",
       "      <th>18</th>\n",
       "      <td>0.009820</td>\n",
       "      <td>0.727</td>\n",
       "      <td>0.828</td>\n",
       "      <td>0.0572</td>\n",
       "      <td>0.393</td>\n",
       "      <td>127.963</td>\n",
       "      <td>Soundwave - Extended Mix</td>\n",
       "      <td>R3HAB,Trevor Guthrie</td>\n",
       "      <td>6cEuCEZu7PAE9ZSzLLc2oQ,6NXk2pLFocS2OkNdT7ncBt</td>\n",
       "      <td>2018-06-19</td>\n",
       "      <td>https://i.scdn.co/image/ab67616d0000b27303f3f1...</td>\n",
       "      <td>28</td>\n",
       "      <td>1enrwS1KqqBZAaoExK8tLp</td>\n",
       "      <td>2018</td>\n",
       "    </tr>\n",
       "    <tr>\n",
       "      <th>10</th>\n",
       "      <td>0.008680</td>\n",
       "      <td>0.565</td>\n",
       "      <td>0.849</td>\n",
       "      <td>0.0517</td>\n",
       "      <td>0.427</td>\n",
       "      <td>102.034</td>\n",
       "      <td>Hymn for the Weekend - Seeb Remix</td>\n",
       "      <td>Coldplay,Seeb</td>\n",
       "      <td>4gzpq5DPGxSnKTe4SA8HAU,5iNrZmtVMtYev5M9yoWpEq</td>\n",
       "      <td>2018-05-16</td>\n",
       "      <td>https://i.scdn.co/image/ab67616d0000b273ac08ec...</td>\n",
       "      <td>70</td>\n",
       "      <td>6s3GEN8wK0OMzzzZbXj0fu</td>\n",
       "      <td>2018</td>\n",
       "    </tr>\n",
       "    <tr>\n",
       "      <th>13</th>\n",
       "      <td>0.028000</td>\n",
       "      <td>0.545</td>\n",
       "      <td>0.814</td>\n",
       "      <td>0.0409</td>\n",
       "      <td>0.696</td>\n",
       "      <td>104.930</td>\n",
       "      <td>FRIENDS - R3hab Remix</td>\n",
       "      <td>Marshmello,Anne-Marie,R3HAB</td>\n",
       "      <td>64KEffDW9EtZ1y2vBYgq8T,1zNqDE7qDGCsyzJwohVaoX,...</td>\n",
       "      <td>2018-05-06</td>\n",
       "      <td>https://i.scdn.co/image/ab67616d0000b2737160be...</td>\n",
       "      <td>60</td>\n",
       "      <td>18YRKiIZO4qDEc5Ik0Cry6</td>\n",
       "      <td>2018</td>\n",
       "    </tr>\n",
       "    <tr>\n",
       "      <th>0</th>\n",
       "      <td>0.005070</td>\n",
       "      <td>0.488</td>\n",
       "      <td>0.956</td>\n",
       "      <td>0.4690</td>\n",
       "      <td>0.268</td>\n",
       "      <td>127.910</td>\n",
       "      <td>Mandala (feat. Mitika) - Official Sunburn 2016...</td>\n",
       "      <td>KSHMR,Marnik,Mitika</td>\n",
       "      <td>2wX6xSig4Rig5kZU6ePlWe,6S3KljEiIOWoLMUyZrkQUc,...</td>\n",
       "      <td>2018-04-30</td>\n",
       "      <td>https://i.scdn.co/image/ab67616d0000b2734393cb...</td>\n",
       "      <td>0</td>\n",
       "      <td>7n9aNG6bEp8WQFglJGdf8c</td>\n",
       "      <td>2018</td>\n",
       "    </tr>\n",
       "    <tr>\n",
       "      <th>8</th>\n",
       "      <td>0.009490</td>\n",
       "      <td>0.722</td>\n",
       "      <td>0.687</td>\n",
       "      <td>0.0556</td>\n",
       "      <td>0.619</td>\n",
       "      <td>128.013</td>\n",
       "      <td>Pursuit Of Happiness - Extended Steve Aoki Remix</td>\n",
       "      <td>Kid Cudi,MGMT,Ratatat,Steve Aoki</td>\n",
       "      <td>0fA0VVWsXO9YnASrzqfmYu,0SwO7SWeDHJijQ3XNS7xEE,...</td>\n",
       "      <td>2018-04-20</td>\n",
       "      <td>https://i.scdn.co/image/ab67616d0000b273fe7908...</td>\n",
       "      <td>79</td>\n",
       "      <td>5PX4uS1LqlWEPL69phPVQQ</td>\n",
       "      <td>2018</td>\n",
       "    </tr>\n",
       "    <tr>\n",
       "      <th>3</th>\n",
       "      <td>0.018100</td>\n",
       "      <td>0.701</td>\n",
       "      <td>0.717</td>\n",
       "      <td>0.0560</td>\n",
       "      <td>0.666</td>\n",
       "      <td>109.999</td>\n",
       "      <td>Friend Of Mine (feat. Vargas &amp; Lagola)</td>\n",
       "      <td>Avicii,Vargas &amp; Lagola</td>\n",
       "      <td>1vCWHaC5f2uS3yhpwWbIA6,2fVW2ix4ANKiofDZIsy1XR</td>\n",
       "      <td>2018-04-09</td>\n",
       "      <td>https://i.scdn.co/image/ab67616d0000b273a26cc5...</td>\n",
       "      <td>61</td>\n",
       "      <td>79UX8fkSsowWI1HOd8VoYt</td>\n",
       "      <td>2018</td>\n",
       "    </tr>\n",
       "    <tr>\n",
       "      <th>8</th>\n",
       "      <td>0.004590</td>\n",
       "      <td>0.744</td>\n",
       "      <td>0.739</td>\n",
       "      <td>0.0387</td>\n",
       "      <td>0.649</td>\n",
       "      <td>104.990</td>\n",
       "      <td>Friends (with BloodPop®)</td>\n",
       "      <td>Justin Bieber,BloodPop®</td>\n",
       "      <td>1uNFoZAHBGtllmzznpCI3s,1okJ4NC308qbtY9LyHn6DO</td>\n",
       "      <td>2018-04-09</td>\n",
       "      <td>https://i.scdn.co/image/ab67616d0000b273302806...</td>\n",
       "      <td>0</td>\n",
       "      <td>7nZmah2llfvLDiUjm0kiyz</td>\n",
       "      <td>2018</td>\n",
       "    </tr>\n",
       "  </tbody>\n",
       "</table>\n",
       "</div>"
      ],
      "text/plain": [
       "    acousticness  danceability  energy  speechiness  valence      BPM  \\\n",
       "17      0.229000         0.469   0.497       0.0301    0.147  144.945   \n",
       "12      0.097200         0.725   0.447       0.0466    0.369  100.993   \n",
       "12      0.433000         0.448   0.603       0.0640    0.422  205.272   \n",
       "8       0.267000         0.810   0.700       0.0399    0.193  116.019   \n",
       "16      0.080300         0.677   0.737       0.1010    0.529  126.076   \n",
       "19      0.446000         0.679   0.744       0.0305    0.523  117.994   \n",
       "13      0.371000         0.666   0.720       0.0269    0.312   99.970   \n",
       "19      0.211000         0.491   0.693       0.0377    0.412   90.027   \n",
       "8       0.023600         0.542   0.894       0.0676    0.296  127.947   \n",
       "18      0.064800         0.724   0.702       0.0429    0.688  106.044   \n",
       "12      0.000767         0.592   0.988       0.0997    0.268  149.985   \n",
       "18      0.009820         0.727   0.828       0.0572    0.393  127.963   \n",
       "10      0.008680         0.565   0.849       0.0517    0.427  102.034   \n",
       "13      0.028000         0.545   0.814       0.0409    0.696  104.930   \n",
       "0       0.005070         0.488   0.956       0.4690    0.268  127.910   \n",
       "8       0.009490         0.722   0.687       0.0556    0.619  128.013   \n",
       "3       0.018100         0.701   0.717       0.0560    0.666  109.999   \n",
       "8       0.004590         0.744   0.739       0.0387    0.649  104.990   \n",
       "\n",
       "                                           song_title  \\\n",
       "17                                          Surrender   \n",
       "12    No One Nobody (feat. Tannergard) - Extended Mix   \n",
       "12                 Lover (Remix) [feat. Shawn Mendes]   \n",
       "8                                         End of Time   \n",
       "16      Can We Pretend (feat. Cash Cash) - MOTi Remix   \n",
       "19                                         Rendezvous   \n",
       "13                                   End Of The Night   \n",
       "19                               Hymn for the Weekend   \n",
       "8                                           Surrender   \n",
       "18                                     No New Friends   \n",
       "12                        Like A Bitch - Extended Mix   \n",
       "18                           Soundwave - Extended Mix   \n",
       "10                  Hymn for the Weekend - Seeb Remix   \n",
       "13                              FRIENDS - R3hab Remix   \n",
       "0   Mandala (feat. Mitika) - Official Sunburn 2016...   \n",
       "8    Pursuit Of Happiness - Extended Steve Aoki Remix   \n",
       "3              Friend Of Mine (feat. Vargas & Lagola)   \n",
       "8                            Friends (with BloodPop®)   \n",
       "\n",
       "                             artists  \\\n",
       "17         Culture Code,Aloma Steele   \n",
       "12              LVNDSCAPE,Tannergard   \n",
       "12         Taylor Swift,Shawn Mendes   \n",
       "8            K-391,Alan Walker,Ahrix   \n",
       "16               P!nk,Cash Cash,MOTi   \n",
       "19                             DEAMN   \n",
       "13                       Danny Avila   \n",
       "19                          Coldplay   \n",
       "8                          Cash Cash   \n",
       "18            Sia,Diplo,Labrinth,LSD   \n",
       "12                            Zomboy   \n",
       "18              R3HAB,Trevor Guthrie   \n",
       "10                     Coldplay,Seeb   \n",
       "13       Marshmello,Anne-Marie,R3HAB   \n",
       "0                KSHMR,Marnik,Mitika   \n",
       "8   Kid Cudi,MGMT,Ratatat,Steve Aoki   \n",
       "3             Avicii,Vargas & Lagola   \n",
       "8            Justin Bieber,BloodPop®   \n",
       "\n",
       "                                          artists_url date_added  \\\n",
       "17      2FF8wcGpikv5RFbAK1rvdZ,0Th7ebqyWRIwNfNDIkEpNX 2021-05-16   \n",
       "12      2QlwnS23KrBeshXFyK5U6M,5SkFO3lmDnuFTMIOMK8Bxj 2020-05-19   \n",
       "12      06HL4z0CvFAxyc27GXpf02,7n2wHs1TKAczGzO7Dd2rGr 2020-03-19   \n",
       "8   6pWcSL9wSJZQ9ne0TnhdWr,7vk5e3vY1uw9plTHJAMwjN,... 2020-03-06   \n",
       "16  1KCSPY1glIKqW2TotWuXOR,1LOB7jTeEV14pHai6EXSzF,... 2019-09-22   \n",
       "19                             1Q50Y9cXWlkNEG6gJfUP1e 2019-08-17   \n",
       "13                             5y3G1B8cpCTaoq0uDgjwzH 2019-04-27   \n",
       "19                             4gzpq5DPGxSnKTe4SA8HAU 2019-04-11   \n",
       "8                              1LOB7jTeEV14pHai6EXSzF 2019-04-05   \n",
       "18  5WUlDfRSoLAfcVSX1WnrxN,5fMUXHkw8R8eOP2RNVYEZX,... 2019-03-27   \n",
       "12                             0ycHhPwPvoaO4VGzmMnXGq 2018-12-04   \n",
       "18      6cEuCEZu7PAE9ZSzLLc2oQ,6NXk2pLFocS2OkNdT7ncBt 2018-06-19   \n",
       "10      4gzpq5DPGxSnKTe4SA8HAU,5iNrZmtVMtYev5M9yoWpEq 2018-05-16   \n",
       "13  64KEffDW9EtZ1y2vBYgq8T,1zNqDE7qDGCsyzJwohVaoX,... 2018-05-06   \n",
       "0   2wX6xSig4Rig5kZU6ePlWe,6S3KljEiIOWoLMUyZrkQUc,... 2018-04-30   \n",
       "8   0fA0VVWsXO9YnASrzqfmYu,0SwO7SWeDHJijQ3XNS7xEE,... 2018-04-20   \n",
       "3       1vCWHaC5f2uS3yhpwWbIA6,2fVW2ix4ANKiofDZIsy1XR 2018-04-09   \n",
       "8       1uNFoZAHBGtllmzznpCI3s,1okJ4NC308qbtY9LyHn6DO 2018-04-09   \n",
       "\n",
       "                                          album_cover  popularity  \\\n",
       "17  https://i.scdn.co/image/ab67616d0000b273dc2717...          33   \n",
       "12  https://i.scdn.co/image/ab67616d0000b273dd2f9a...          13   \n",
       "12  https://i.scdn.co/image/ab67616d0000b27359457b...          72   \n",
       "8   https://i.scdn.co/image/ab67616d0000b27349b9fb...          71   \n",
       "16  https://i.scdn.co/image/ab67616d0000b27325a9ca...          31   \n",
       "19  https://i.scdn.co/image/ab67616d0000b273ab5191...           0   \n",
       "13  https://i.scdn.co/image/ab67616d0000b273c27d89...          60   \n",
       "19  https://i.scdn.co/image/ab67616d0000b2738ff7c3...          85   \n",
       "8   https://i.scdn.co/image/ab67616d0000b27359793c...           0   \n",
       "18  https://i.scdn.co/image/ab67616d0000b2738dc455...           0   \n",
       "12  https://i.scdn.co/image/ab67616d0000b273613b4a...          49   \n",
       "18  https://i.scdn.co/image/ab67616d0000b27303f3f1...          28   \n",
       "10  https://i.scdn.co/image/ab67616d0000b273ac08ec...          70   \n",
       "13  https://i.scdn.co/image/ab67616d0000b2737160be...          60   \n",
       "0   https://i.scdn.co/image/ab67616d0000b2734393cb...           0   \n",
       "8   https://i.scdn.co/image/ab67616d0000b273fe7908...          79   \n",
       "3   https://i.scdn.co/image/ab67616d0000b273a26cc5...          61   \n",
       "8   https://i.scdn.co/image/ab67616d0000b273302806...           0   \n",
       "\n",
       "                       url  date_added_year  \n",
       "17  6uWqUaSwMjdXstqYICzIOj             2021  \n",
       "12  35FBQRowt0ysnLxRdnKTQi             2020  \n",
       "12  3i9UVldZOE0aD0JnyfAZZ0             2020  \n",
       "8   67O8CWXxPsfz8orZVGMQwf             2020  \n",
       "16  6wOGUUk5ys4jDEjUN5Xj1x             2019  \n",
       "19  0CgoJjztyESsK4pq3UIIKI             2019  \n",
       "13  46n9OJc7LOIVdj8t2l5WA5             2019  \n",
       "19  3RiPr603aXAoi4GHyXx0uy             2019  \n",
       "8   3rwdcyPQ37SSsf1loOpux9             2019  \n",
       "18  3Y7a0typ6ik1KscmebXd6D             2019  \n",
       "12  72RFLY7sigTDszBRAKg9Mf             2018  \n",
       "18  1enrwS1KqqBZAaoExK8tLp             2018  \n",
       "10  6s3GEN8wK0OMzzzZbXj0fu             2018  \n",
       "13  18YRKiIZO4qDEc5Ik0Cry6             2018  \n",
       "0   7n9aNG6bEp8WQFglJGdf8c             2018  \n",
       "8   5PX4uS1LqlWEPL69phPVQQ             2018  \n",
       "3   79UX8fkSsowWI1HOd8VoYt             2018  \n",
       "8   7nZmah2llfvLDiUjm0kiyz             2018  "
      ]
     },
     "metadata": {},
     "output_type": "display_data"
    }
   ],
   "source": [
    "df_saved_2 = df_saved.loc[df_saved['song_title'].str.contains('End', case=False, regex=False, na=False)]\n",
    "df_saved_2"
   ]
  },
  {
   "cell_type": "code",
   "execution_count": null,
   "id": "d7fb28f5-35e3-49fd-89d5-d51d1e5e67f8",
   "metadata": {},
   "outputs": [],
   "source": []
  }
 ],
 "metadata": {
  "kernelspec": {
   "display_name": "Python 3 (ipykernel)",
   "language": "python",
   "name": "python3"
  },
  "language_info": {
   "codemirror_mode": {
    "name": "ipython",
    "version": 3
   },
   "file_extension": ".py",
   "mimetype": "text/x-python",
   "name": "python",
   "nbconvert_exporter": "python",
   "pygments_lexer": "ipython3",
   "version": "3.8.8"
  }
 },
 "nbformat": 4,
 "nbformat_minor": 5
}
