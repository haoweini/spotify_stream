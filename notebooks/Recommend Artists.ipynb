{
 "cells": [
  {
   "cell_type": "code",
   "execution_count": 1,
   "id": "6790d880-da07-4ac4-90ca-a3470f4d15ed",
   "metadata": {},
   "outputs": [],
   "source": [
    "import configparser\n",
    "import json\n",
    "import spotipy\n",
    "import spotipy.util as util\n",
    "import pandas as pd\n",
    "import spotipy.oauth2 as oauth2\n",
    "from spotipy.oauth2 import SpotifyClientCredentials\n",
    "import bamboolib\n",
    "\n",
    "import warnings\n",
    "warnings.filterwarnings(\"ignore\")"
   ]
  },
  {
   "cell_type": "code",
   "execution_count": 8,
   "id": "22edcd94-4a87-41e2-b5e1-96bc394e6f86",
   "metadata": {},
   "outputs": [],
   "source": [
    "with open('../data/raw/spotify_creds.json') as f:\n",
    "    spotify_creds = json.load(f)\n",
    "\n",
    "with open('../data/raw/spotify_token.json') as f:\n",
    "    spotify_token = json.load(f)"
   ]
  },
  {
   "cell_type": "code",
   "execution_count": 9,
   "id": "09d99f2a-3120-4762-a19a-7f9bfacef9fa",
   "metadata": {},
   "outputs": [],
   "source": [
    "client_id = spotify_creds['client_id']\n",
    "client_secret = spotify_creds['client_secret']\n",
    "username = spotify_creds['username']\n",
    "scope = spotify_creds['saved_library_scope']\n",
    "redirect_uri = spotify_creds['saved_library_redirect_url']\n",
    "token = spotify_token['all_access_token']\n",
    "\n",
    "\n",
    "def connect_to_spotify_api(client_id, client_secret, username, scope, redirect_uri):\n",
    "    \n",
    "    client_credentials_manager = SpotifyClientCredentials(client_id, client_secret) \n",
    "    sp = spotipy.Spotify(client_credentials_manager=client_credentials_manager)\n",
    "\n",
    "    #token = util.prompt_for_user_token(username, scope, client_id, client_secret, redirect_uri)\n",
    "    if token:\n",
    "        sp = spotipy.Spotify(auth=token)\n",
    "    else:\n",
    "        print(\"Can't get token for\", username)\n",
    "        \n",
    "    return sp\n",
    "\n",
    "sp = connect_to_spotify_api(client_id, client_secret, username, scope, redirect_uri)"
   ]
  },
  {
   "cell_type": "code",
   "execution_count": 13,
   "id": "2b159725-d32f-4bd5-8f4b-4d537977da8e",
   "metadata": {},
   "outputs": [],
   "source": [
    "def get_top_artists():\n",
    "    df_top_artists = pd.DataFrame()\n",
    "    artists_list = []\n",
    "    genres_list = []\n",
    "    artists_pic_list = []\n",
    "    popularity_list = []\n",
    "    artist_url_list = []\n",
    "    followers_list = []\n",
    "    artists = sp.current_user_top_artists()\n",
    "    \n",
    "    for artist in artists['items']:\n",
    "        artists_pic_list.append(artist['images'][0]['url'])\n",
    "        artists_list.append(artist['name'])\n",
    "        genres_list.append(artist['genres'][0])\n",
    "        popularity_list.append(artist['popularity'])\n",
    "        followers_list.append(artist['followers']['total'])\n",
    "        artist_url = artist['external_urls']['spotify']\n",
    "        artist_url = artist_url.split('/')[-1]\n",
    "        artist_url_list.append(artist_url)\n",
    "\n",
    "        \n",
    "    df_top_artists['artist'] = artists_pic_list \n",
    "    df_top_artists['name'] = artists_list\n",
    "    df_top_artists['genere'] = genres_list\n",
    "    df_top_artists['popularity'] = popularity_list\n",
    "    df_top_artists['followers'] = followers_list\n",
    "    df_top_artists['url'] = artist_url_list\n",
    "\n",
    "    return df_top_artists"
   ]
  },
  {
   "cell_type": "code",
   "execution_count": 14,
   "id": "1c26342e-9fdd-47f1-8d28-6f08ad84998b",
   "metadata": {},
   "outputs": [],
   "source": [
    "df=get_top_artists()"
   ]
  },
  {
   "cell_type": "code",
   "execution_count": 18,
   "id": "d007695a-9fbf-46aa-baf3-78b8b4bb98e4",
   "metadata": {},
   "outputs": [],
   "source": [
    "for artist in df['name'].unique():\n",
    "            df_1 = df[df['name'] == artist]\n",
    "            uri = list(df_1['url'])[0]"
   ]
  },
  {
   "cell_type": "code",
   "execution_count": 19,
   "id": "93201c72-d90d-4c7d-b5a8-7a68e051f892",
   "metadata": {},
   "outputs": [
    {
     "data": {
      "text/plain": [
       "'4AVFqumd2ogHFlRbKIjp1t'"
      ]
     },
     "execution_count": 19,
     "metadata": {},
     "output_type": "execute_result"
    }
   ],
   "source": [
    "uri"
   ]
  },
  {
   "cell_type": "code",
   "execution_count": null,
   "id": "7bbf7c34-5bd8-4256-a613-0aa644f60aa6",
   "metadata": {},
   "outputs": [],
   "source": []
  }
 ],
 "metadata": {
  "kernelspec": {
   "display_name": "Python 3 (ipykernel)",
   "language": "python",
   "name": "python3"
  },
  "language_info": {
   "codemirror_mode": {
    "name": "ipython",
    "version": 3
   },
   "file_extension": ".py",
   "mimetype": "text/x-python",
   "name": "python",
   "nbconvert_exporter": "python",
   "pygments_lexer": "ipython3",
   "version": "3.8.8"
  }
 },
 "nbformat": 4,
 "nbformat_minor": 5
}
